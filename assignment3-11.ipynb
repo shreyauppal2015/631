{
 "cells": [
  {
   "cell_type": "code",
   "execution_count": 1,
   "metadata": {
    "deletable": false,
    "editable": false,
    "nbgrader": {
     "cell_type": "code",
     "checksum": "25640fd4ae5d5156137643ea09550d0f",
     "grade": false,
     "grade_id": "version",
     "locked": true,
     "schema_version": 3,
     "solution": false
    },
    "pycharm": {
     "is_executing": false
    }
   },
   "outputs": [],
   "source": [
    "version = \"REPLACE_PACKAGE_VERSION\""
   ]
  },
  {
   "cell_type": "markdown",
   "metadata": {
    "deletable": false,
    "editable": false,
    "hideCode": true,
    "hidePrompt": true,
    "nbgrader": {
     "cell_type": "markdown",
     "checksum": "06374c469b30378728b209da043ed49c",
     "grade": false,
     "grade_id": "cell-c008508e5480ace7",
     "locked": true,
     "schema_version": 3,
     "solution": false
    }
   },
   "source": [
    "# Experiment Design and Analysis\n",
    "## School of Information, University of Michigan\n",
    "\n",
    "## Week 3: \n",
    "- 1. Power & Sample Sizes\n",
    "- 2. Randomization - Blocking & Clustering\n",
    "- 3. Differences-in-Differences\n",
    "\n",
    "## Assignment Overview\n",
    "### The objective of this assignment is to:\n",
    "\n",
    "- Applying theory of experiment design and knowledge of analysis techniques to real experiment data.\n",
    "\n",
    "\n",
    "### The total score of this assignment will be 18 points\n",
    "\n",
    "\n",
    "### Resources:\n",
    "- StatsModels and Scipy.stats\n",
    "    - We recommend using two python libraries called [StatsModels](https://www.statsmodels.org/stable/index.html) and [scipy.stats](https://docs.scipy.org/doc/scipy/reference/tutorial/stats.html) for data analysis\n",
    "\n",
    "- Datasets used for this assignment:\n",
    "    - MovieLens Data: [assignment3_data.csv](assets/assignment3_data.csv)\n",
    "        - Source for dataset: [Chen, Y. et al. Social Comparisons and Contributions to Online Communities: A Field Experiment on MovieLens. (2010).](https://www-jstor-org.proxy.lib.umich.edu/stable/27871259)\n",
    "    "
   ]
  },
  {
   "cell_type": "code",
   "execution_count": 2,
   "metadata": {
    "deletable": false,
    "editable": false,
    "nbgrader": {
     "cell_type": "code",
     "checksum": "c9bdcf8f7f52756fb2cc38b0f6510464",
     "grade": false,
     "grade_id": "cell-f0226322dec1f15f",
     "locked": true,
     "schema_version": 3,
     "solution": false
    },
    "pycharm": {
     "is_executing": false
    }
   },
   "outputs": [],
   "source": [
    "import pandas as pd\n",
    "import numpy as np\n",
    "import statsmodels.api as sm\n",
    "import statsmodels.stats.api as sms\n",
    "import math as math\n",
    "from scipy import stats\n",
    "from statsmodels.stats.power import TTestIndPower\n",
    "#you may or may not use all of the above libraries, and that is OK!\n",
    "\n",
    "movie_data = pd.read_csv('assets/assignment3_data.csv') #Data for this assignment"
   ]
  },
  {
   "cell_type": "code",
   "execution_count": 3,
   "metadata": {
    "pycharm": {
     "is_executing": false
    }
   },
   "outputs": [
    {
     "name": "stdout",
     "output_type": "stream",
     "text": [
      "### Assignment Topic: Data analysis of a field experiment on MovieLens\r\n",
      "\r\n",
      "### Background:\r\n",
      "We upload data files from a field experiment conducted on MovieLens, which was mentioned in lecture this week.\r\n",
      "\r\n",
      "### Data:\r\n",
      "\r\n",
      "The MovieLens data ([assignment3_data.csv](assignment3_data.csv)) has the following variables:\r\n",
      "\r\n",
      "- userid: user ID\r\n",
      "\r\n",
      "- expcondition: experiment condtion: control group or treatment group\r\n",
      "\r\n",
      "- compare_w_median: the total number of movie a user has rated compared with the group median. \"1\": above median, \"0\": about median, \"-1\": below median.\r\n",
      "\r\n",
      "- ratings_lifetime: the total number of movie a user has rated before experiment\r\n",
      "\r\n",
      "- edu_year: length of education in years\r\n",
      "\r\n",
      "- pre_rating: the number of movie a user has rated in one month before the experimental intervention\r\n",
      "\r\n",
      "- post_rating: the number of movie a user has rated in one month after the experimental intervention\r\n",
      "\r\n",
      "- active: A user is active if she rated movies, updated the database, or invited a buddy during the two-month period of data collection. \"1\" means active, \"0\" means not active.\r\n",
      "\r\n",
      "- male: \"1\" means male, \"0\" means female.\r\n",
      "\r\n",
      "- weeks: the total number of weeks a user has been using MovieLens.\r\n",
      "\r\n",
      "- control: \"1\" is the control group, \"0\" is the treatment group.\r\n"
     ]
    },
    {
     "data": {
      "text/html": [
       "<div>\n",
       "<style scoped>\n",
       "    .dataframe tbody tr th:only-of-type {\n",
       "        vertical-align: middle;\n",
       "    }\n",
       "\n",
       "    .dataframe tbody tr th {\n",
       "        vertical-align: top;\n",
       "    }\n",
       "\n",
       "    .dataframe thead th {\n",
       "        text-align: right;\n",
       "    }\n",
       "</style>\n",
       "<table border=\"1\" class=\"dataframe\">\n",
       "  <thead>\n",
       "    <tr style=\"text-align: right;\">\n",
       "      <th></th>\n",
       "      <th>userid</th>\n",
       "      <th>expcondition</th>\n",
       "      <th>userage</th>\n",
       "      <th>compare_w_median</th>\n",
       "      <th>ratings_lifetime</th>\n",
       "      <th>pre_rating</th>\n",
       "      <th>post_rating</th>\n",
       "      <th>active</th>\n",
       "      <th>male</th>\n",
       "      <th>weeks</th>\n",
       "      <th>control</th>\n",
       "    </tr>\n",
       "  </thead>\n",
       "  <tbody>\n",
       "    <tr>\n",
       "      <th>263</th>\n",
       "      <td>151564</td>\n",
       "      <td>control</td>\n",
       "      <td>new</td>\n",
       "      <td>-1</td>\n",
       "      <td>94</td>\n",
       "      <td>90</td>\n",
       "      <td>0</td>\n",
       "      <td>1</td>\n",
       "      <td>0</td>\n",
       "      <td>4</td>\n",
       "      <td>1</td>\n",
       "    </tr>\n",
       "    <tr>\n",
       "      <th>264</th>\n",
       "      <td>151568</td>\n",
       "      <td>control</td>\n",
       "      <td>new</td>\n",
       "      <td>0</td>\n",
       "      <td>243</td>\n",
       "      <td>206</td>\n",
       "      <td>5</td>\n",
       "      <td>1</td>\n",
       "      <td>1</td>\n",
       "      <td>4</td>\n",
       "      <td>1</td>\n",
       "    </tr>\n",
       "    <tr>\n",
       "      <th>265</th>\n",
       "      <td>151579</td>\n",
       "      <td>control</td>\n",
       "      <td>new</td>\n",
       "      <td>0</td>\n",
       "      <td>121</td>\n",
       "      <td>110</td>\n",
       "      <td>0</td>\n",
       "      <td>1</td>\n",
       "      <td>1</td>\n",
       "      <td>4</td>\n",
       "      <td>1</td>\n",
       "    </tr>\n",
       "    <tr>\n",
       "      <th>266</th>\n",
       "      <td>151584</td>\n",
       "      <td>control</td>\n",
       "      <td>new</td>\n",
       "      <td>0</td>\n",
       "      <td>277</td>\n",
       "      <td>193</td>\n",
       "      <td>0</td>\n",
       "      <td>1</td>\n",
       "      <td>1</td>\n",
       "      <td>4</td>\n",
       "      <td>1</td>\n",
       "    </tr>\n",
       "    <tr>\n",
       "      <th>267</th>\n",
       "      <td>152230</td>\n",
       "      <td>conformity</td>\n",
       "      <td>new</td>\n",
       "      <td>-1</td>\n",
       "      <td>201</td>\n",
       "      <td>0</td>\n",
       "      <td>0</td>\n",
       "      <td>0</td>\n",
       "      <td>0</td>\n",
       "      <td>1</td>\n",
       "      <td>0</td>\n",
       "    </tr>\n",
       "  </tbody>\n",
       "</table>\n",
       "</div>"
      ],
      "text/plain": [
       "     userid expcondition userage  compare_w_median  ratings_lifetime  \\\n",
       "263  151564      control     new                -1                94   \n",
       "264  151568      control     new                 0               243   \n",
       "265  151579      control     new                 0               121   \n",
       "266  151584      control     new                 0               277   \n",
       "267  152230   conformity     new                -1               201   \n",
       "\n",
       "     pre_rating  post_rating  active  male  weeks  control  \n",
       "263          90            0       1     0      4        1  \n",
       "264         206            5       1     1      4        1  \n",
       "265         110            0       1     1      4        1  \n",
       "266         193            0       1     1      4        1  \n",
       "267           0            0       0     0      1        0  "
      ]
     },
     "execution_count": 3,
     "metadata": {},
     "output_type": "execute_result"
    }
   ],
   "source": [
    "#uncomment the below line to view readme files for this dataset (includes explanation of variable names)\n",
    "!cat assets/assignment3_data_readme.md\n",
    "\n",
    "#uncomment the below line to view snippet of csv file\n",
    "movie_data.tail()"
   ]
  },
  {
   "cell_type": "markdown",
   "metadata": {
    "deletable": false,
    "editable": false,
    "nbgrader": {
     "cell_type": "markdown",
     "checksum": "83401e9a0d3aacbdaa064863ea02e91f",
     "grade": false,
     "grade_id": "cell-3c04684024ec52ce",
     "locked": true,
     "schema_version": 3,
     "solution": false
    }
   },
   "source": [
    "## Introduction\n",
    "In `movie_data`, you will find a dataframe containing a portion of the data from MovieLens experiment. To simply this assignment, you will only find one treatment condition where the experimenters tested the impact of social influence on moving ratings. This treatment was administrated through sending a tailored email that emphasized social influence. In contrast, subjects in the control received a plain version of email."
   ]
  },
  {
   "cell_type": "markdown",
   "metadata": {
    "deletable": false,
    "editable": false,
    "hideCode": true,
    "hidePrompt": true,
    "nbgrader": {
     "cell_type": "markdown",
     "checksum": "7802b9709e870463fd4182da63786ff1",
     "grade": false,
     "grade_id": "cell-47b6b078bfd869a2",
     "locked": true,
     "schema_version": 3,
     "solution": false
    }
   },
   "source": [
    "## Part A (6 points)"
   ]
  },
  {
   "cell_type": "markdown",
   "metadata": {
    "deletable": false,
    "editable": false,
    "hideCode": true,
    "hidePrompt": true,
    "nbgrader": {
     "cell_type": "markdown",
     "checksum": "72e52dc07d9eac1c5296815a24aa2c52",
     "grade": false,
     "grade_id": "part_a_inst_text",
     "locked": true,
     "schema_version": 3,
     "solution": false
    }
   },
   "source": [
    "First, we should check if our sample is relatively balanced across our treatment and control groups. Test the following hypotheses using a t-test:"
   ]
  },
  {
   "cell_type": "markdown",
   "metadata": {
    "deletable": false,
    "editable": false,
    "hideCode": true,
    "hidePrompt": true,
    "nbgrader": {
     "cell_type": "markdown",
     "checksum": "a9de878a3648203c5eee270aa2497958",
     "grade": false,
     "grade_id": "part_a_inst_text_1",
     "locked": true,
     "schema_version": 3,
     "solution": false
    }
   },
   "source": [
    "1. The number of ratings in the month before the intervention (`pre_rating`) are balanced between the treatment and control groups. (3 points)\n",
    "\n",
    "**Round any calculations to the hundredth decimal. Do not use percentages.**"
   ]
  },
  {
   "cell_type": "code",
   "execution_count": 4,
   "metadata": {
    "deletable": false,
    "nbgrader": {
     "cell_type": "code",
     "checksum": "951b5f664caecfc5d46a10bce0b99beb",
     "grade": false,
     "grade_id": "pre_rate_balance",
     "locked": false,
     "schema_version": 3,
     "solution": true
    },
    "pycharm": {
     "is_executing": false
    }
   },
   "outputs": [],
   "source": [
    "def pre_ratings(provided_data):\n",
    "    \n",
    "    \"\"\"\n",
    "    Write the function to manually check the differences in means of pre-rating values between the control and treatment groups.\n",
    "    Your function should output a named dataframe with the following columns: 'avg control', 'avg treatment', 't-statistic', 'p-value'.\n",
    "    The dataframe should be named, 'Difference in Means between Pre-Rating Groups'.\n",
    "    Tip: you can choose to use either the statsmodels stats library or the scipy stats library to calculate the t-statistic and p-value.\n",
    "    \"\"\"\n",
    "    # YOUR CODE HERE\n",
    "    #raise NotImplementedError()\n",
    "    a = stats.ttest_ind(provided_data[provided_data['control'] == 1]['pre_rating'],provided_data[provided_data['control'] == 0]['pre_rating'])\n",
    "    avg_control = round(provided_data[provided_data['control'] == 1]['pre_rating'].mean(),2)\n",
    "    avg_treatment = round(provided_data[provided_data['control'] == 0]['pre_rating'].mean(),2)\n",
    "    t = round(a[0],2)\n",
    "    pvalue = round(a[1],2)\n",
    "    pr_df = pd.DataFrame(columns = ['avg control', 'avg treatment', 't-statistic', 'p-value'])\n",
    "    pr_df.loc[len(pr_df.index)] = [avg_control,avg_treatment,t,pvalue]\n",
    "\n",
    "    pr_df.name = 'Difference in Means between Pre-Rating Groups'\n",
    "    \n",
    "    return pr_df"
   ]
  },
  {
   "cell_type": "markdown",
   "metadata": {
    "deletable": false,
    "editable": false,
    "nbgrader": {
     "cell_type": "markdown",
     "checksum": "6cc589ecdb994bd8b356831bd8000141",
     "grade": false,
     "grade_id": "part_a_check_text",
     "locked": true,
     "schema_version": 3,
     "solution": false
    }
   },
   "source": [
    "Your function should return a named dataframe with each of the variables and their completed statistics. Check that it does:"
   ]
  },
  {
   "cell_type": "code",
   "execution_count": 5,
   "metadata": {
    "pycharm": {
     "is_executing": false
    }
   },
   "outputs": [
    {
     "data": {
      "text/html": [
       "<div>\n",
       "<style scoped>\n",
       "    .dataframe tbody tr th:only-of-type {\n",
       "        vertical-align: middle;\n",
       "    }\n",
       "\n",
       "    .dataframe tbody tr th {\n",
       "        vertical-align: top;\n",
       "    }\n",
       "\n",
       "    .dataframe thead th {\n",
       "        text-align: right;\n",
       "    }\n",
       "</style>\n",
       "<table border=\"1\" class=\"dataframe\">\n",
       "  <thead>\n",
       "    <tr style=\"text-align: right;\">\n",
       "      <th></th>\n",
       "      <th>avg control</th>\n",
       "      <th>avg treatment</th>\n",
       "      <th>t-statistic</th>\n",
       "      <th>p-value</th>\n",
       "    </tr>\n",
       "  </thead>\n",
       "  <tbody>\n",
       "    <tr>\n",
       "      <th>0</th>\n",
       "      <td>18.14</td>\n",
       "      <td>19.17</td>\n",
       "      <td>-0.09</td>\n",
       "      <td>0.93</td>\n",
       "    </tr>\n",
       "  </tbody>\n",
       "</table>\n",
       "</div>"
      ],
      "text/plain": [
       "   avg control  avg treatment  t-statistic  p-value\n",
       "0        18.14          19.17        -0.09     0.93"
      ]
     },
     "execution_count": 5,
     "metadata": {},
     "output_type": "execute_result"
    }
   ],
   "source": [
    "pre_ratings(movie_data)"
   ]
  },
  {
   "cell_type": "code",
   "execution_count": 6,
   "metadata": {
    "deletable": false,
    "editable": false,
    "nbgrader": {
     "cell_type": "code",
     "checksum": "e9e804ed0bbd9f69c572c0abea307e65",
     "grade": true,
     "grade_id": "pre_rate_df_name_columns",
     "locked": true,
     "points": 1,
     "schema_version": 3,
     "solution": false
    },
    "pycharm": {
     "is_executing": false
    }
   },
   "outputs": [],
   "source": [
    "assert pre_ratings(movie_data).name == \"Difference in Means between Pre-Rating Groups\"\n",
    "df_columns = ['avg control', 'avg treatment', 't-statistic', 'p-value']\n",
    "for index, title in enumerate(pre_ratings(movie_data).columns):\n",
    "    assert title == df_columns[index]"
   ]
  },
  {
   "cell_type": "code",
   "execution_count": 7,
   "metadata": {
    "deletable": false,
    "editable": false,
    "nbgrader": {
     "cell_type": "code",
     "checksum": "67b7bd2f0877e5dd0e991fd88cdcecfe",
     "grade": true,
     "grade_id": "pre_rate_df_value1",
     "locked": true,
     "points": 1,
     "schema_version": 3,
     "solution": false
    },
    "pycharm": {
     "is_executing": false
    }
   },
   "outputs": [
    {
     "data": {
      "text/plain": [
       "'Checking avg_control and avg_treatment values'"
      ]
     },
     "execution_count": 7,
     "metadata": {},
     "output_type": "execute_result"
    }
   ],
   "source": [
    "\"\"\"Checking avg_control and avg_treatment values\"\"\"\n",
    "# Hidden tests"
   ]
  },
  {
   "cell_type": "code",
   "execution_count": 8,
   "metadata": {
    "deletable": false,
    "editable": false,
    "nbgrader": {
     "cell_type": "code",
     "checksum": "75444d58802382ed662f96ccaf603110",
     "grade": true,
     "grade_id": "pre_rate_df_value2",
     "locked": true,
     "points": 1,
     "schema_version": 3,
     "solution": false
    },
    "pycharm": {
     "is_executing": false
    }
   },
   "outputs": [
    {
     "data": {
      "text/plain": [
       "'checking your t-statistic and p-value are correct'"
      ]
     },
     "execution_count": 8,
     "metadata": {},
     "output_type": "execute_result"
    }
   ],
   "source": [
    "\"\"\"checking your t-statistic and p-value are correct\"\"\"\n",
    "# Hidden tests"
   ]
  },
  {
   "cell_type": "markdown",
   "metadata": {
    "deletable": false,
    "editable": false,
    "hideCode": true,
    "hidePrompt": true,
    "nbgrader": {
     "cell_type": "markdown",
     "checksum": "3be4c90a71a2415e23603d69172c671d",
     "grade": false,
     "grade_id": "part_a_inst_text_2",
     "locked": true,
     "schema_version": 3,
     "solution": false
    }
   },
   "source": [
    "2. Test that the gender composition (variable 'male') is similar between the treatment and control groups. (3 points)\n",
    "\n",
    "**Round any calculations to the hundredth decimal. Do not use percentages.**"
   ]
  },
  {
   "cell_type": "code",
   "execution_count": 9,
   "metadata": {
    "deletable": false,
    "nbgrader": {
     "cell_type": "code",
     "checksum": "fb2133e7536ca47d7821606a8d2a327f",
     "grade": false,
     "grade_id": "gender_balance",
     "locked": false,
     "schema_version": 3,
     "solution": true
    },
    "pycharm": {
     "is_executing": false
    }
   },
   "outputs": [],
   "source": [
    "def male_gender_comp(provided_data):\n",
    "        \n",
    "    \"\"\"\n",
    "    Write the function to manually check the differences in means of participant gender across the control and treatment groups.\n",
    "    Your function should output a named dataframe with the following columns: 'avg control', 'avg treatment', 't-statistic', 'p-value'\n",
    "    The dataframe should be named, 'Difference in Means of Males'.\n",
    "    Tip: you can choose to use either the statsmodels stats library or the scipy stats library to calculate the t-statistic and p-value.\n",
    "    \"\"\"\n",
    "    gender_control = movie_data[movie_data['control'] == 1]['male']\n",
    "    # YOUR CODE HERE\n",
    "    #raise NotImplementedError()\n",
    "    \n",
    "    \n",
    "    a = stats.ttest_ind(provided_data[provided_data['control'] == 1]['male'],provided_data[provided_data['control'] == 0]['male'])\n",
    "    avg_control = round(provided_data[provided_data['control'] == 1]['male'].mean(),2)\n",
    "    avg_treatment = round(provided_data[provided_data['control'] == 0]['male'].mean(),2)\n",
    "    t = round(a[0],2)\n",
    "    pvalue = round(a[1],2)\n",
    "\n",
    "    male_df = pd.DataFrame(columns = ['avg control', 'avg treatment', 't-statistic', 'p-value'])\n",
    "    male_df.loc[len(male_df.index)] = [avg_control,avg_treatment,t,pvalue]\n",
    "\n",
    "    male_df.name = 'Difference in Means of Males'\n",
    "  \n",
    "    return male_df\n"
   ]
  },
  {
   "cell_type": "markdown",
   "metadata": {
    "deletable": false,
    "editable": false,
    "nbgrader": {
     "cell_type": "markdown",
     "checksum": "edc79338563f9a2d01eed933448feedb",
     "grade": false,
     "grade_id": "part_a_check_text_1",
     "locked": true,
     "schema_version": 3,
     "solution": false
    }
   },
   "source": [
    "Your function should return a named dataframe with each of the variables and their completed statistics. Check that it does:"
   ]
  },
  {
   "cell_type": "code",
   "execution_count": 10,
   "metadata": {
    "pycharm": {
     "is_executing": false
    }
   },
   "outputs": [
    {
     "data": {
      "text/html": [
       "<div>\n",
       "<style scoped>\n",
       "    .dataframe tbody tr th:only-of-type {\n",
       "        vertical-align: middle;\n",
       "    }\n",
       "\n",
       "    .dataframe tbody tr th {\n",
       "        vertical-align: top;\n",
       "    }\n",
       "\n",
       "    .dataframe thead th {\n",
       "        text-align: right;\n",
       "    }\n",
       "</style>\n",
       "<table border=\"1\" class=\"dataframe\">\n",
       "  <thead>\n",
       "    <tr style=\"text-align: right;\">\n",
       "      <th></th>\n",
       "      <th>avg control</th>\n",
       "      <th>avg treatment</th>\n",
       "      <th>t-statistic</th>\n",
       "      <th>p-value</th>\n",
       "    </tr>\n",
       "  </thead>\n",
       "  <tbody>\n",
       "    <tr>\n",
       "      <th>0</th>\n",
       "      <td>0.55</td>\n",
       "      <td>0.58</td>\n",
       "      <td>-0.49</td>\n",
       "      <td>0.62</td>\n",
       "    </tr>\n",
       "  </tbody>\n",
       "</table>\n",
       "</div>"
      ],
      "text/plain": [
       "   avg control  avg treatment  t-statistic  p-value\n",
       "0         0.55           0.58        -0.49     0.62"
      ]
     },
     "execution_count": 10,
     "metadata": {},
     "output_type": "execute_result"
    }
   ],
   "source": [
    "male_gender_comp(movie_data)"
   ]
  },
  {
   "cell_type": "code",
   "execution_count": 11,
   "metadata": {
    "deletable": false,
    "editable": false,
    "nbgrader": {
     "cell_type": "code",
     "checksum": "72b07a19761d00b224858158501d3639",
     "grade": true,
     "grade_id": "gender_df_value2",
     "locked": true,
     "points": 1,
     "schema_version": 3,
     "solution": false
    },
    "pycharm": {
     "is_executing": false
    }
   },
   "outputs": [],
   "source": [
    "\"\"\"Checking the t-statistic and p-value in your dataframe are correct\"\"\"\n",
    "assert next(iter(male_gender_comp(movie_data)['t-statistic'])) == -0.49\n",
    "assert next(iter(male_gender_comp(movie_data)['p-value'])) == 0.62"
   ]
  },
  {
   "cell_type": "code",
   "execution_count": 12,
   "metadata": {
    "deletable": false,
    "editable": false,
    "nbgrader": {
     "cell_type": "code",
     "checksum": "2066e2336017b2c171d6f100f13a34b4",
     "grade": true,
     "grade_id": "gender_df_name_columns",
     "locked": true,
     "points": 1,
     "schema_version": 3,
     "solution": false
    },
    "pycharm": {
     "is_executing": false
    }
   },
   "outputs": [
    {
     "data": {
      "text/plain": [
       "'Part A #2: Checking your dataframe is named, and your columns are in order'"
      ]
     },
     "execution_count": 12,
     "metadata": {},
     "output_type": "execute_result"
    }
   ],
   "source": [
    "\"\"\"Part A #2: Checking your dataframe is named, and your columns are in order\"\"\"\n",
    "# Hidden tests"
   ]
  },
  {
   "cell_type": "code",
   "execution_count": 13,
   "metadata": {
    "deletable": false,
    "editable": false,
    "nbgrader": {
     "cell_type": "code",
     "checksum": "9a4d05b5dcd3e870c65ffaea1fa2021b",
     "grade": true,
     "grade_id": "gender_df_value1",
     "locked": true,
     "points": 1,
     "schema_version": 3,
     "solution": false
    },
    "pycharm": {
     "is_executing": false
    }
   },
   "outputs": [
    {
     "data": {
      "text/plain": [
       "'Part A #2: Checking your avg control and avg treatment values are correct'"
      ]
     },
     "execution_count": 13,
     "metadata": {},
     "output_type": "execute_result"
    }
   ],
   "source": [
    "\"\"\"Part A #2: Checking your avg control and avg treatment values are correct\"\"\"\n",
    "# Hidden tests"
   ]
  },
  {
   "cell_type": "markdown",
   "metadata": {
    "deletable": false,
    "editable": false,
    "hideCode": true,
    "hidePrompt": true,
    "nbgrader": {
     "cell_type": "markdown",
     "checksum": "a76ca117b0205ecaf8cc24b1a46f7a48",
     "grade": false,
     "grade_id": "cell-2f36f2548987391b",
     "locked": true,
     "schema_version": 3,
     "solution": false
    }
   },
   "source": [
    "## Part B (6 points)"
   ]
  },
  {
   "cell_type": "markdown",
   "metadata": {
    "deletable": false,
    "editable": false,
    "hideCode": true,
    "hidePrompt": true,
    "nbgrader": {
     "cell_type": "markdown",
     "checksum": "e50168f22357d1fb851628acb1fc4802",
     "grade": false,
     "grade_id": "part_b_inst_text",
     "locked": true,
     "schema_version": 3,
     "solution": false
    }
   },
   "source": [
    "From the MovieLens experiment, we know that we want to estimate the impact of social influence on moving ratings on the MovieLens platform. Let’s estimate this by using difference-in-differences to examine the effects of post_rating for the treatment and control group."
   ]
  },
  {
   "cell_type": "markdown",
   "metadata": {
    "deletable": false,
    "editable": false,
    "hideCode": true,
    "hidePrompt": true,
    "nbgrader": {
     "cell_type": "markdown",
     "checksum": "635967649199fd09dc266f4ef0bbecb8",
     "grade": false,
     "grade_id": "part_b_inst_text_1",
     "locked": true,
     "schema_version": 3,
     "solution": false
    }
   },
   "source": [
    "1. Create a new variable, delta, in the dataframe and output the dataframe. Delta should show the difference in pre_rating and post_rating (calculate using post_rating – pre_rating). (2 points)"
   ]
  },
  {
   "cell_type": "code",
   "execution_count": 14,
   "metadata": {
    "deletable": false,
    "nbgrader": {
     "cell_type": "code",
     "checksum": "7544022558be0ea40706173ae473cfd6",
     "grade": false,
     "grade_id": "delta_ratings",
     "locked": false,
     "schema_version": 3,
     "solution": true
    },
    "pycharm": {
     "is_executing": false
    }
   },
   "outputs": [],
   "source": [
    "def delta_ratings(provided_data):\n",
    "    \n",
    "    \"\"\"\n",
    "    Write the function to output a new dataframe with the following columns: 'userid','compare_w_median','pre_rating','post_rating','delta','control'.\n",
    "    The content of the columns should come from movie_data. Delta should be calculated as post_rating - pre_rating.\n",
    "    The dataframe should be named, 'Delta in Ratings'.\n",
    "    \"\"\"\n",
    "    # YOUR CODE HERE\n",
    "    #raise NotImplementedError()\n",
    "    \n",
    "    delta_ratings_df = provided_data[['userid','compare_w_median','pre_rating','post_rating','control']]\n",
    "    delta_ratings_df['delta'] = delta_ratings_df['post_rating'] - delta_ratings_df['pre_rating']\n",
    "    \n",
    "    delta_ratings_df = delta_ratings_df[['userid','compare_w_median','pre_rating','post_rating','delta','control']]\n",
    "    delta_ratings_df.name = 'Delta in Ratings'\n",
    "    \n",
    "    \n",
    "    return delta_ratings_df"
   ]
  },
  {
   "cell_type": "markdown",
   "metadata": {
    "deletable": false,
    "editable": false,
    "hideCode": true,
    "hidePrompt": true,
    "nbgrader": {
     "cell_type": "markdown",
     "checksum": "73277702288573f223a65b8c8c66aeba",
     "grade": false,
     "grade_id": "part_b_check_text",
     "locked": true,
     "schema_version": 3,
     "solution": false
    }
   },
   "source": [
    "Your function should return a named dataframe with each of the variables and their values. Check that it does:"
   ]
  },
  {
   "cell_type": "code",
   "execution_count": 15,
   "metadata": {
    "pycharm": {
     "is_executing": false
    }
   },
   "outputs": [
    {
     "data": {
      "text/html": [
       "<div>\n",
       "<style scoped>\n",
       "    .dataframe tbody tr th:only-of-type {\n",
       "        vertical-align: middle;\n",
       "    }\n",
       "\n",
       "    .dataframe tbody tr th {\n",
       "        vertical-align: top;\n",
       "    }\n",
       "\n",
       "    .dataframe thead th {\n",
       "        text-align: right;\n",
       "    }\n",
       "</style>\n",
       "<table border=\"1\" class=\"dataframe\">\n",
       "  <thead>\n",
       "    <tr style=\"text-align: right;\">\n",
       "      <th></th>\n",
       "      <th>userid</th>\n",
       "      <th>compare_w_median</th>\n",
       "      <th>pre_rating</th>\n",
       "      <th>post_rating</th>\n",
       "      <th>delta</th>\n",
       "      <th>control</th>\n",
       "    </tr>\n",
       "  </thead>\n",
       "  <tbody>\n",
       "    <tr>\n",
       "      <th>0</th>\n",
       "      <td>42126</td>\n",
       "      <td>1</td>\n",
       "      <td>0</td>\n",
       "      <td>0</td>\n",
       "      <td>0</td>\n",
       "      <td>1</td>\n",
       "    </tr>\n",
       "    <tr>\n",
       "      <th>1</th>\n",
       "      <td>47947</td>\n",
       "      <td>0</td>\n",
       "      <td>0</td>\n",
       "      <td>38</td>\n",
       "      <td>38</td>\n",
       "      <td>1</td>\n",
       "    </tr>\n",
       "    <tr>\n",
       "      <th>2</th>\n",
       "      <td>49034</td>\n",
       "      <td>-1</td>\n",
       "      <td>0</td>\n",
       "      <td>41</td>\n",
       "      <td>41</td>\n",
       "      <td>1</td>\n",
       "    </tr>\n",
       "    <tr>\n",
       "      <th>3</th>\n",
       "      <td>51898</td>\n",
       "      <td>0</td>\n",
       "      <td>0</td>\n",
       "      <td>8</td>\n",
       "      <td>8</td>\n",
       "      <td>0</td>\n",
       "    </tr>\n",
       "    <tr>\n",
       "      <th>4</th>\n",
       "      <td>52797</td>\n",
       "      <td>0</td>\n",
       "      <td>0</td>\n",
       "      <td>33</td>\n",
       "      <td>33</td>\n",
       "      <td>0</td>\n",
       "    </tr>\n",
       "  </tbody>\n",
       "</table>\n",
       "</div>"
      ],
      "text/plain": [
       "   userid  compare_w_median  pre_rating  post_rating  delta  control\n",
       "0   42126                 1           0            0      0        1\n",
       "1   47947                 0           0           38     38        1\n",
       "2   49034                -1           0           41     41        1\n",
       "3   51898                 0           0            8      8        0\n",
       "4   52797                 0           0           33     33        0"
      ]
     },
     "execution_count": 15,
     "metadata": {},
     "output_type": "execute_result"
    }
   ],
   "source": [
    "delta_ratings(movie_data).head()"
   ]
  },
  {
   "cell_type": "code",
   "execution_count": 16,
   "metadata": {
    "deletable": false,
    "editable": false,
    "nbgrader": {
     "cell_type": "code",
     "checksum": "ec4b62366080b2603ceff27f701eac6a",
     "grade": true,
     "grade_id": "delta_df_name",
     "locked": true,
     "points": 1,
     "schema_version": 3,
     "solution": false
    },
    "pycharm": {
     "is_executing": false
    }
   },
   "outputs": [],
   "source": [
    "\"\"\"checking you have a named dataframe\"\"\"\n",
    "assert delta_ratings(movie_data).name == \"Delta in Ratings\""
   ]
  },
  {
   "cell_type": "code",
   "execution_count": 17,
   "metadata": {
    "deletable": false,
    "editable": false,
    "nbgrader": {
     "cell_type": "code",
     "checksum": "b58074b31868e6620659b243320dabba",
     "grade": true,
     "grade_id": "delta_df_columns",
     "locked": true,
     "points": 1,
     "schema_version": 3,
     "solution": false
    },
    "pycharm": {
     "is_executing": false
    }
   },
   "outputs": [
    {
     "data": {
      "text/plain": [
       "'checking your column names and orders'"
      ]
     },
     "execution_count": 17,
     "metadata": {},
     "output_type": "execute_result"
    }
   ],
   "source": [
    "\"\"\"checking your column names and orders\"\"\"\n",
    "# Hidden tests"
   ]
  },
  {
   "cell_type": "markdown",
   "metadata": {
    "deletable": false,
    "editable": false,
    "hideCode": true,
    "hidePrompt": true,
    "nbgrader": {
     "cell_type": "markdown",
     "checksum": "708d6e71b75576daccf58ed60a770a22",
     "grade": false,
     "grade_id": "cell-7bcfb2f2f5d77f22",
     "locked": true,
     "schema_version": 3,
     "solution": false
    }
   },
   "source": [
    "2. Use an ordinary least squares regression model to explore the average treatment-effect on delta. Using a t-test, what is the significance using the t-statistic and p-value of this effect? (4 points)\n",
    "\n",
    "**Round any calculations to the hundredth decimal. Do not use percentages.**"
   ]
  },
  {
   "cell_type": "code",
   "execution_count": 18,
   "metadata": {
    "deletable": false,
    "nbgrader": {
     "cell_type": "code",
     "checksum": "d4926a96bf7eaad49d2b2efa265032cf",
     "grade": false,
     "grade_id": "ate_delta_avg",
     "locked": false,
     "schema_version": 3,
     "solution": true
    },
    "pycharm": {
     "is_executing": false
    }
   },
   "outputs": [],
   "source": [
    "import statsmodels.formula.api as smf\n",
    "\n",
    "def ate_delta_avg(provided_data):\n",
    "    \n",
    "    \"\"\" The easiest way to evaluate the average treatment effect is to run a linear regression, with delta as\n",
    "    the dependent variable, and control as the independent variable. Use the statsmodels library to run an \n",
    "    OLS linear regression, and return a named dataframe with the t-statistic and pvalue associated your model's control\n",
    "    data. \n",
    "    The dataframe should have the following columns: 't-statistic', 'p-value', and should be named 'Average Treatment\n",
    "    Effect on Delta'\n",
    "    \"\"\"\n",
    "    # complete the function by assigning your X and Y, and fitting your model. Remember to add a constant.\n",
    "    # YOUR CODE HERE\n",
    "    #raise NotImplementedError()\n",
    "    \n",
    "    provided_data = delta_ratings(provided_data)\n",
    "  \n",
    "    model = smf.ols(formula = \"provided_data['delta'] ~ provided_data['control']\", data = provided_data).fit()\n",
    "    \n",
    "    tstats = model.tvalues\n",
    "    \n",
    "    pvals = model.pvalues\n",
    "    \n",
    "    pval = np.round(pvals[1],2)\n",
    "    \n",
    "    tstat = np.round(tstats[1],2)\n",
    "    \n",
    "    did_df = pd.DataFrame(data = [[tstat, pval]], columns=['t-statistic', 'p-value'])\n",
    "    did_df.name = 'Average Treatment Effect on Delta'\n",
    "    \n",
    "    return did_df"
   ]
  },
  {
   "cell_type": "markdown",
   "metadata": {
    "deletable": false,
    "editable": false,
    "nbgrader": {
     "cell_type": "markdown",
     "checksum": "7ff17773eee001a6eceb259ae6d1bb14",
     "grade": false,
     "grade_id": "cell-2a322f08f6d11c4e",
     "locked": true,
     "schema_version": 3,
     "solution": false
    }
   },
   "source": [
    "Your function should return a named dataframe with the correct values. Check that it does:"
   ]
  },
  {
   "cell_type": "code",
   "execution_count": 19,
   "metadata": {
    "pycharm": {
     "is_executing": false
    }
   },
   "outputs": [
    {
     "data": {
      "text/html": [
       "<div>\n",
       "<style scoped>\n",
       "    .dataframe tbody tr th:only-of-type {\n",
       "        vertical-align: middle;\n",
       "    }\n",
       "\n",
       "    .dataframe tbody tr th {\n",
       "        vertical-align: top;\n",
       "    }\n",
       "\n",
       "    .dataframe thead th {\n",
       "        text-align: right;\n",
       "    }\n",
       "</style>\n",
       "<table border=\"1\" class=\"dataframe\">\n",
       "  <thead>\n",
       "    <tr style=\"text-align: right;\">\n",
       "      <th></th>\n",
       "      <th>t-statistic</th>\n",
       "      <th>p-value</th>\n",
       "    </tr>\n",
       "  </thead>\n",
       "  <tbody>\n",
       "    <tr>\n",
       "      <th>0</th>\n",
       "      <td>-0.49</td>\n",
       "      <td>0.62</td>\n",
       "    </tr>\n",
       "  </tbody>\n",
       "</table>\n",
       "</div>"
      ],
      "text/plain": [
       "   t-statistic  p-value\n",
       "0        -0.49     0.62"
      ]
     },
     "execution_count": 19,
     "metadata": {},
     "output_type": "execute_result"
    }
   ],
   "source": [
    "ate_delta_avg(movie_data) #again, if you get a deprecation warning, that is fine."
   ]
  },
  {
   "cell_type": "code",
   "execution_count": 20,
   "metadata": {
    "deletable": false,
    "editable": false,
    "nbgrader": {
     "cell_type": "code",
     "checksum": "42f677cda1f609d5da0acda660ceb949",
     "grade": true,
     "grade_id": "ate_delta_df_name",
     "locked": true,
     "points": 1,
     "schema_version": 3,
     "solution": false
    },
    "pycharm": {
     "is_executing": false
    }
   },
   "outputs": [
    {
     "data": {
      "text/plain": [
       "'Part B #2: Checking your dataframe is named, and your columns are in order'"
      ]
     },
     "execution_count": 20,
     "metadata": {},
     "output_type": "execute_result"
    }
   ],
   "source": [
    "\"\"\"Part B #2: Checking your dataframe is named, and your columns are in order\"\"\"\n",
    "# Hidden tests"
   ]
  },
  {
   "cell_type": "code",
   "execution_count": 21,
   "metadata": {
    "deletable": false,
    "editable": false,
    "nbgrader": {
     "cell_type": "code",
     "checksum": "bd1c0181f88208b9eaab563b2494c77f",
     "grade": true,
     "grade_id": "ate_delta_avg_values",
     "locked": true,
     "points": 3,
     "schema_version": 3,
     "solution": false
    },
    "pycharm": {
     "is_executing": false
    }
   },
   "outputs": [
    {
     "data": {
      "text/plain": [
       "'checking your t-statistic and p-value are correct'"
      ]
     },
     "execution_count": 21,
     "metadata": {},
     "output_type": "execute_result"
    }
   ],
   "source": [
    "\"\"\"checking your t-statistic and p-value are correct\"\"\"\n",
    "# Hidden tests"
   ]
  },
  {
   "cell_type": "markdown",
   "metadata": {
    "deletable": false,
    "editable": false,
    "hideCode": true,
    "hidePrompt": true,
    "nbgrader": {
     "cell_type": "markdown",
     "checksum": "91f2652d92e87ea0224135700b3b8060",
     "grade": false,
     "grade_id": "cell-e54cb36068d6dee4",
     "locked": true,
     "schema_version": 3,
     "solution": false
    }
   },
   "source": [
    "## Part C (8 points)"
   ]
  },
  {
   "cell_type": "markdown",
   "metadata": {
    "deletable": false,
    "editable": false,
    "hideCode": true,
    "hidePrompt": true,
    "nbgrader": {
     "cell_type": "markdown",
     "checksum": "f7bed395437e7c7f25224ee68cabbac8",
     "grade": false,
     "grade_id": "cell-1fa49591fb3f501a",
     "locked": true,
     "schema_version": 3,
     "solution": false
    }
   },
   "source": [
    "What if we break this comparison down by group, specifically the total number of ratings users complete compared with the median ratings (compare_w_median)?"
   ]
  },
  {
   "cell_type": "markdown",
   "metadata": {
    "deletable": false,
    "editable": false,
    "hideCode": true,
    "hidePrompt": true,
    "nbgrader": {
     "cell_type": "markdown",
     "checksum": "08aa7648078022c950e4bec566b205bd",
     "grade": false,
     "grade_id": "cell-b633b33a9e89391f",
     "locked": true,
     "schema_version": 3,
     "solution": false
    }
   },
   "source": [
    "1. Output the t-statistics and p-values for the average treatment-effect on delta across median ratings (where ```compare_w_median``` == -1, where ```compare_w_median``` == 0, and where ```compare_w_median``` == 1). (8 points)"
   ]
  },
  {
   "cell_type": "code",
   "execution_count": 22,
   "metadata": {
    "deletable": false,
    "nbgrader": {
     "cell_type": "code",
     "checksum": "1df9bd300c937973456a2ea3f9e4b4ec",
     "grade": false,
     "grade_id": "compare_delta_median",
     "locked": false,
     "schema_version": 3,
     "solution": true
    },
    "pycharm": {
     "is_executing": false
    }
   },
   "outputs": [],
   "source": [
    "def ate_delta_median_values(provided_data):\n",
    "    \"\"\" The easiest way to evaluate the average treatment effect is to run a linear regression for each of the\n",
    "    distinct 'compare_w_median' values, with delta as the dependent variable, and control as the independent\n",
    "    variable. Use the statsmodels library to run OLS linear regressions, and output a dataframe.\n",
    "    \n",
    "    The dataframe should be indexed, with the index values as follows: 'below median', 'at median', 'abv median'.\n",
    "    The dataframe should have the following columns: 't-statistic', 'p-value'.\n",
    "    The dataframe should be named 'Average Treatment Effect across Median Scores'\n",
    "    \"\"\"\n",
    "    \n",
    "    # YOUR CODE HERE\n",
    "    #raise NotImplementedError()\n",
    "    df = pd.DataFrame(columns=['t-statistic', 'p-value'], index = ['below median', 'at median', 'abv median'])\n",
    "    df_org = provided_data\n",
    "\n",
    "    for i,j in zip([-1,0,1],['below median', 'at median', 'abv median']):\n",
    "        provided_data = df_org\n",
    "        provided_data = delta_ratings(provided_data[provided_data['compare_w_median'] == int(i)])\n",
    "\n",
    "        model = smf.ols(formula = \"provided_data['delta'] ~ provided_data['control']\", data = provided_data).fit()\n",
    "        \n",
    "        tstats = model.tvalues\n",
    "        \n",
    "        pvals = model.pvalues\n",
    "        \n",
    "        pval = np.round(pvals[1],2)\n",
    "        \n",
    "        tstat = np.round(tstats[1],2)\n",
    "        df.loc[j]['t-statistic'] = tstat\n",
    "        df.loc[j]['p-value'] = pval\n",
    "    \n",
    "    df.name='Average Treatment Effect across Median Scores' \n",
    "    return df"
   ]
  },
  {
   "cell_type": "markdown",
   "metadata": {
    "deletable": false,
    "editable": false,
    "nbgrader": {
     "cell_type": "markdown",
     "checksum": "84f5d87480ccfe5d2086d9fe31ffe0eb",
     "grade": false,
     "grade_id": "cell-9b2632f460bc9608",
     "locked": true,
     "schema_version": 3,
     "solution": false
    }
   },
   "source": [
    "Your function should return a named and indexed dataframe with the correct values. Check that it does:"
   ]
  },
  {
   "cell_type": "code",
   "execution_count": 23,
   "metadata": {
    "pycharm": {
     "is_executing": false
    }
   },
   "outputs": [
    {
     "data": {
      "text/html": [
       "<div>\n",
       "<style scoped>\n",
       "    .dataframe tbody tr th:only-of-type {\n",
       "        vertical-align: middle;\n",
       "    }\n",
       "\n",
       "    .dataframe tbody tr th {\n",
       "        vertical-align: top;\n",
       "    }\n",
       "\n",
       "    .dataframe thead th {\n",
       "        text-align: right;\n",
       "    }\n",
       "</style>\n",
       "<table border=\"1\" class=\"dataframe\">\n",
       "  <thead>\n",
       "    <tr style=\"text-align: right;\">\n",
       "      <th></th>\n",
       "      <th>t-statistic</th>\n",
       "      <th>p-value</th>\n",
       "    </tr>\n",
       "  </thead>\n",
       "  <tbody>\n",
       "    <tr>\n",
       "      <th>below median</th>\n",
       "      <td>-2.45</td>\n",
       "      <td>0.02</td>\n",
       "    </tr>\n",
       "    <tr>\n",
       "      <th>at median</th>\n",
       "      <td>-2.19</td>\n",
       "      <td>0.03</td>\n",
       "    </tr>\n",
       "    <tr>\n",
       "      <th>abv median</th>\n",
       "      <td>0.71</td>\n",
       "      <td>0.48</td>\n",
       "    </tr>\n",
       "  </tbody>\n",
       "</table>\n",
       "</div>"
      ],
      "text/plain": [
       "             t-statistic p-value\n",
       "below median       -2.45    0.02\n",
       "at median          -2.19    0.03\n",
       "abv median          0.71    0.48"
      ]
     },
     "execution_count": 23,
     "metadata": {},
     "output_type": "execute_result"
    }
   ],
   "source": [
    "ate_delta_median_values(delta_ratings(movie_data))"
   ]
  },
  {
   "cell_type": "code",
   "execution_count": 24,
   "metadata": {
    "deletable": false,
    "editable": false,
    "nbgrader": {
     "cell_type": "code",
     "checksum": "928ce6a2f575a456dc7a98682b9aa318",
     "grade": true,
     "grade_id": "correct_df_name_colind",
     "locked": true,
     "points": 2,
     "schema_version": 3,
     "solution": false
    },
    "pycharm": {
     "is_executing": false
    }
   },
   "outputs": [],
   "source": [
    "\"\"\"checking your dataframe is named, your columns are in order, and you have a dataframe index\"\"\"\n",
    "assert ate_delta_median_values(delta_ratings(movie_data)).name == 'Average Treatment Effect across Median Scores'\n",
    "check_col = iter(ate_delta_median_values(delta_ratings(movie_data)).columns)\n",
    "check_ind = iter(ate_delta_median_values(delta_ratings(movie_data)).index)\n",
    "assert next(check_ind) == 'below median'\n",
    "assert next(check_ind) == 'at median'\n",
    "assert next(check_ind) == 'abv median'\n",
    "assert next(check_col) == 't-statistic'\n",
    "assert next(check_col) == 'p-value'"
   ]
  },
  {
   "cell_type": "code",
   "execution_count": 25,
   "metadata": {
    "deletable": false,
    "editable": false,
    "nbgrader": {
     "cell_type": "code",
     "checksum": "b185053a1759052d88b4ca2608b792e6",
     "grade": true,
     "grade_id": "correct_belowmed_stats",
     "locked": true,
     "points": 2,
     "schema_version": 3,
     "solution": false
    },
    "pycharm": {
     "is_executing": false
    }
   },
   "outputs": [
    {
     "data": {
      "text/plain": [
       "'checking your below-median t-statistic and p-value are correct'"
      ]
     },
     "execution_count": 25,
     "metadata": {},
     "output_type": "execute_result"
    }
   ],
   "source": [
    "\"\"\"checking your below-median t-statistic and p-value are correct\"\"\"\n",
    "# Hidden tests"
   ]
  },
  {
   "cell_type": "code",
   "execution_count": 26,
   "metadata": {
    "deletable": false,
    "editable": false,
    "nbgrader": {
     "cell_type": "code",
     "checksum": "a2512e93203afef6fd656b9ad3b795cd",
     "grade": true,
     "grade_id": "correct_med_stats",
     "locked": true,
     "points": 2,
     "schema_version": 3,
     "solution": false
    },
    "pycharm": {
     "is_executing": false
    }
   },
   "outputs": [
    {
     "data": {
      "text/plain": [
       "'checking your at-median t-statistic and p-value are correct'"
      ]
     },
     "execution_count": 26,
     "metadata": {},
     "output_type": "execute_result"
    }
   ],
   "source": [
    "\"\"\"checking your at-median t-statistic and p-value are correct\"\"\"\n",
    "# Hidden tests"
   ]
  },
  {
   "cell_type": "code",
   "execution_count": 27,
   "metadata": {
    "deletable": false,
    "editable": false,
    "nbgrader": {
     "cell_type": "code",
     "checksum": "ecaf5bb60973d08a23dbaa9c911b2f58",
     "grade": true,
     "grade_id": "correct_abvmed_stats",
     "locked": true,
     "points": 2,
     "schema_version": 3,
     "solution": false
    },
    "pycharm": {
     "is_executing": false
    }
   },
   "outputs": [
    {
     "data": {
      "text/plain": [
       "'checking your abv-median t-statistic and p-value are correct'"
      ]
     },
     "execution_count": 27,
     "metadata": {},
     "output_type": "execute_result"
    }
   ],
   "source": [
    "\"\"\"checking your abv-median t-statistic and p-value are correct\"\"\"\n",
    "# Hidden tests"
   ]
  },
  {
   "cell_type": "markdown",
   "metadata": {
    "deletable": false,
    "editable": false,
    "nbgrader": {
     "cell_type": "markdown",
     "checksum": "6d5f72ef15096e89b548c4630eeacb5e",
     "grade": false,
     "grade_id": "cell-b5823b864d66dff4",
     "locked": true,
     "schema_version": 3,
     "solution": false
    },
    "pycharm": {
     "is_executing": false
    }
   },
   "source": [
    "## Part D (5 points)\n",
    "\n",
    "Based on the `post_rating` observations, perform a sample-size calculation to determine the minimum number of subjects that are needed for detecting difference in means between the treament and the control groups. Assume $\\alpha=0.05$ and $\\beta = 0.1$, and that the variances are the same for the treatment and control groups.\n",
    "\n",
    "The `solve_power` method of the `TTestIndPower` class provided by `statsmodels` can be used to solve this problem. You may want to carefully read its [documentation] (https://www.statsmodels.org/stable/generated/statsmodels.stats.power.TTestIndPower.solve_power.html#statsmodels.stats.power.TTestIndPower.solve_power) to understand how to use it. Use `TTestIndPower().solve_power` to call the function. Make sure to round up the number of observations by using math.ceil(....).\n",
    "\n",
    "You'd also need to understand the difference between *population* and *sample* standard deviation, and how to use `pd` functions to calculate either one. "
   ]
  },
  {
   "cell_type": "code",
   "execution_count": 28,
   "metadata": {
    "deletable": false,
    "nbgrader": {
     "cell_type": "code",
     "checksum": "f9ccf6d031c934dec29d7c762c516c1e",
     "grade": false,
     "grade_id": "cell-80c945fbd5788d3d",
     "locked": false,
     "schema_version": 3,
     "solution": true
    }
   },
   "outputs": [],
   "source": [
    "from numpy import std, mean, sqrt\n",
    "\n",
    "def power_calc(provided_data):\n",
    "    \"\"\"\n",
    "    Your function should return a named pd.Series, \"Power Analysis\", that contains the following fields:\n",
    "     - ctrl_mean: the mean for the control group\n",
    "     - trtm_mean: the mean for the treatment group\n",
    "     - pop_std: the population standard deviation for both the control and treatment groups (i.e., all records)\n",
    "     - num_obs: the minimum number of subjects required\n",
    "    \"\"\"\n",
    "    # YOUR CODE HERE\n",
    "    #TTestIndPower.solve_power(effect_size=_effect_size, nobs1=None, alpha=_alpha, power=_power, ratio=_ratio\n",
    "    control = provided_data[provided_data['control'] == 1]\n",
    "    treat = provided_data[provided_data['control'] == 0]\n",
    "    ctrl_mean = np.mean(control['post_rating'])\n",
    "    trtm_mean = np.mean(treat['post_rating'])\n",
    "    pop_std = np.std(provided_data['post_rating'])\n",
    "    effect= (ctrl_mean-trtm_mean)/std(movie_data['post_rating'])\n",
    "    \n",
    "    alpha = 0.05\n",
    "    \n",
    "    power = 0.9\n",
    "    \n",
    "    ratio = len(control['post_rating'])/len(treat['post_rating'])\n",
    "    analysis = TTestIndPower()\n",
    "    result = analysis.solve_power(effect_size = effect, alpha=alpha, power=power, ratio = ratio)\n",
    "    num_obs = math.ceil(result)\n",
    "    \n",
    "    index_labels = ['ctrl_mean', 'trtm_mean', 'pop_std', 'num_obs']\n",
    "    ser = pd.Series(data = [ctrl_mean, trtm_mean, pop_std, num_obs], index = index_labels)\n",
    "    ser.name = \"Power Analysis\"\n",
    "    \n",
    "    return ser\n",
    "\n",
    "    #raise NotImplementedError()"
   ]
  },
  {
   "cell_type": "code",
   "execution_count": 29,
   "metadata": {},
   "outputs": [
    {
     "data": {
      "text/plain": [
       "ctrl_mean     12.179104\n",
       "trtm_mean     19.074627\n",
       "pop_std       34.197445\n",
       "num_obs      518.000000\n",
       "Name: Power Analysis, dtype: float64"
      ]
     },
     "execution_count": 29,
     "metadata": {},
     "output_type": "execute_result"
    }
   ],
   "source": [
    "# Check your result\n",
    "power_calc(movie_data)"
   ]
  },
  {
   "cell_type": "code",
   "execution_count": 30,
   "metadata": {
    "deletable": false,
    "editable": false,
    "nbgrader": {
     "cell_type": "code",
     "checksum": "bebcdad48f2dd93076d4b1f12253382a",
     "grade": false,
     "grade_id": "cell-e541b1f42c63d2ab",
     "locked": true,
     "schema_version": 3,
     "solution": false
    }
   },
   "outputs": [],
   "source": [
    "# Visible tests\n",
    "\n",
    "stu_ans = power_calc(movie_data)\n",
    "\n",
    "assert isinstance(stu_ans, pd.Series), \"Part D: Your function should return a pd.Series. \"\n",
    "assert stu_ans.name == \"Power Analysis\", \"Part D: Your Series should be named correctly. \"\n",
    "assert list(stu_ans.index) == ['ctrl_mean', 'trtm_mean', 'pop_std', 'num_obs'], \"Part D: Your Series should have the correct indices. \"\n",
    "\n",
    "del stu_ans"
   ]
  },
  {
   "cell_type": "code",
   "execution_count": 31,
   "metadata": {
    "deletable": false,
    "editable": false,
    "nbgrader": {
     "cell_type": "code",
     "checksum": "e7fd1afbd8e9cebf1be460b2ffd51f88",
     "grade": true,
     "grade_id": "cell-e22fcdf083271a1c",
     "locked": true,
     "points": 5,
     "schema_version": 3,
     "solution": false
    }
   },
   "outputs": [],
   "source": [
    "# Hidden tests\n"
   ]
  },
  {
   "cell_type": "code",
   "execution_count": null,
   "metadata": {},
   "outputs": [],
   "source": []
  }
 ],
 "metadata": {
  "coursera": {
   "schema_names": [
    "mads_experiment_design_and_analysis_v4_assignment3"
   ]
  },
  "hide_code_all_hidden": true,
  "kernelspec": {
   "display_name": "Python 3 (ipykernel)",
   "language": "python",
   "name": "python3"
  },
  "language_info": {
   "codemirror_mode": {
    "name": "ipython",
    "version": 3
   },
   "file_extension": ".py",
   "mimetype": "text/x-python",
   "name": "python",
   "nbconvert_exporter": "python",
   "pygments_lexer": "ipython3",
   "version": "3.8.10"
  },
  "pycharm": {
   "stem_cell": {
    "cell_type": "raw",
    "metadata": {
     "collapsed": false
    },
    "source": []
   }
  }
 },
 "nbformat": 4,
 "nbformat_minor": 4
}
