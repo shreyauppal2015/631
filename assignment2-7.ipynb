{
 "cells": [
  {
   "cell_type": "code",
   "execution_count": 1,
   "metadata": {
    "deletable": false,
    "editable": false,
    "nbgrader": {
     "cell_type": "code",
     "checksum": "25640fd4ae5d5156137643ea09550d0f",
     "grade": false,
     "grade_id": "version",
     "locked": true,
     "schema_version": 3,
     "solution": false
    }
   },
   "outputs": [],
   "source": [
    "version = \"REPLACE_PACKAGE_VERSION\""
   ]
  },
  {
   "cell_type": "markdown",
   "metadata": {
    "deletable": false,
    "editable": false,
    "nbgrader": {
     "cell_type": "markdown",
     "checksum": "9fafb015adf3b26c1a65822ecfefef87",
     "grade": false,
     "grade_id": "cell-ec7cd781bd78b38c",
     "locked": true,
     "schema_version": 3,
     "solution": false
    }
   },
   "source": [
    "# Experiment Design and Analysis\n",
    "## School of Information, University of Michigan\n",
    "\n",
    "## Week 2: \n",
    "\n",
    "\n",
    "## Assignment Overview\n",
    "### The objective of this assignment is to:\n",
    "\n",
    "- Apply theory of experiment design and knowledge of analysis techniques to real experiment data.\n",
    "\n",
    "\n",
    "### The total score of this assignment will be 19 points\n",
    "\n",
    "\n",
    "### Resources:\n",
    "- StatsModels, Scipy.stats, Numpy\n",
    "    - We recommend using two python libraries called [StatsModels](https://www.statsmodels.org/stable/index.html) and [Scipy.stats](https://docs.scipy.org/doc/scipy/reference/tutorial/stats.html) for data analysis. For this dataset, we'll be using [Numpy](https://numpy.org/devdocs/reference/index.html) as well.\n",
    "    \n",
    "- Optional Reading: [Holt C.A, & Laury S.K. Risk Aversion and Incentive Effects. (2002).](https://www.jstor.org/stable/3083270)  \n",
    "\n",
    "\n",
    "Datasets used in this assignment\n",
    "- Trust data [download csv file](assets/assignment2_data1.csv)\n",
    "- Fixed-Price Auction data [download csv file](assets/assignment2_data2.csv)\n",
    "    - Source for dataset: [Chen, Y., et al. Sealed bid auctions with ambiguity: Theory and experiments. (2007).](https://www.sciencedirect.com/science/article/pii/S0022053107000178)"
   ]
  },
  {
   "cell_type": "code",
   "execution_count": 2,
   "metadata": {
    "deletable": false,
    "editable": false,
    "nbgrader": {
     "cell_type": "code",
     "checksum": "fd30bfc9b7931f471a9a9d1229f0da31",
     "grade": false,
     "grade_id": "cell-878efb9fcbd3c051",
     "locked": true,
     "schema_version": 3,
     "solution": false
    }
   },
   "outputs": [],
   "source": [
    "import pandas as pd\n",
    "import numpy as np\n",
    "import statsmodels.api as sm\n",
    "import statsmodels.stats.api as sms\n",
    "from scipy import stats\n",
    "#you may or may not use all of the above libraries, and that is OK!\n",
    "\n",
    "trust_data = pd.read_csv('assets/assignment2_data1.csv') #Trust Game data for this assignment\n",
    "fpa_data = pd.read_csv('assets/assignment2_data2.csv') #First-price auction data for this assignment - this is the same dataset from last week"
   ]
  },
  {
   "cell_type": "code",
   "execution_count": 3,
   "metadata": {},
   "outputs": [
    {
     "name": "stdout",
     "output_type": "stream",
     "text": [
      "### Assignment Topic: Data analysis of a laboratory experiment on trust\n",
      "\n",
      "### Background:\n",
      "We upload data files from laboratory experiments conducted at the University of Michigan.\n",
      "\n",
      "Subjects are grouped in pairs, paired with one assigned the role of an investor and another a recipient.\n",
      "\n",
      "    - The investor holds a set amount of money and can choose to give any fraction of that amount to the recipient – or none.\n",
      "\n",
      "    - The amount given is multiplied by a set amount and the recipient can choose to give any fraction of the multiplied amount back to the investor – or none.\n",
      "\n",
      "The data given was collected from an experiment involving the Trust Game and it contains decisions from the “investors” and “recipients.”\n",
      "\n",
      "### Data:\n",
      "The Trust Game data has the following variables:\n",
      "   - Period: period which the game was held\n",
      "   - group #: pair the player was in\n",
      "   - player #: order or role the player had\n",
      "   - player role: first if investor, second if recipient\n",
      "   - decision type: INVEST if investor, RETURN if recipient\n",
      "   - decision: amount invested or returned\n",
      "   - payoff: if investor - amount kept + amount returned, if recipient - (3 * amount received) - amount returned\n",
      "### Assignment Topic: Data analysis of a laboratory experiment on first-price auction\n",
      "\n",
      "### Background:\n",
      "We upload data files from a laboratory experiment conducted at the University of Michigan.\n",
      "\n",
      "There are ten experimental sessions, with eight subjects per session. In this context, subjects are tasked with completing auction and lottery (Holt-Laury 2002) tasks in two orders.\n",
      "\n",
      "   - In five of the ten sessions, subjects first complete a lottery task, followed by 30 rounds of auctions.\n",
      "   - In the other five sessions, subjects first complete 30 rounds of auctions, followed by a lottery task.\n",
      "\n",
      "At the end of each session, subjects complete a demographics survey.\n",
      "\n",
      "### Data:\n",
      "\n",
      "The data has the following variables:\n",
      "   - treatment: the treatment received by the subject\n",
      "   - session: the session in which the data was collected in the experiment\n",
      "   - period: the period in the session (multiple periods per session)\n",
      "   - subject: unique identifier for each subject\n",
      "   - disttype: distribution type, high or low\n",
      "   - highdist: if the subjects' values are from the high distribution type\n",
      "   - lowdist: if the subjects' values are from the low distribution type\n",
      "   - group: group number\n",
      "   - v: value of the subjects' object\n",
      "   - b: how much the subjects bid for the object\n",
      "   - highbid: the highest bid in the group\n",
      "   - lowbid: the lowest bid in the group\n",
      "   - buy: whether subjects win the auction\n",
      "   - buy_yes: if subjects win the auction\n",
      "   - buy_no: if subjects do not win the auction\n",
      "   - profit: profit for the period\n",
      "   - cumprof: accumulated profit from the first period\n",
      "   - timeb: time the bid is submitted\n",
      "   - new: new data indicator\n",
      "   - lottery_profit: profit from the Holt-Laury lottery\n",
      "   - choice1-10: choosing lottery A results in a value of 1 choosing lottery B results in a value of 2\n",
      "   - error: if subjects do not follow the pattern that they switch from lottery A to B and continue to choose B\n",
      "   - ra: risk-attitude\n",
      "   - ra_adj: censored risk-attitude\n",
      "   - ra1-5: if ra_adj=4, ra1=1 ... if ra_adj=8, ra5=1\n",
      "   - pclab: PC lab number\n",
      "   - gender: gender\n",
      "   - male: male\n",
      "   - female: female\n",
      "   - ethnic: ethnicity\n",
      "   - white, asian, african, hispanic, native, other: 1 if category applies\n",
      "   - age: age\n",
      "   - siblings: number of siblings\n",
      "   - personality: optimistic, pessimistic, or neither\n",
      "   - optim, pessim, neither: 1 if applies\n",
      "   - emotions: emotions\n",
      "   - anger, anxiety, confusion, contentment, fatigue, happiness, irritation, moodswings, withdrawal: 1 if applies\n",
      "   - major: major field type\n",
      "   - sdmajor: self-declared major\n",
      "   - major1: math or statistics major\n",
      "   - major2: science or engineering major\n",
      "   - major3: economics or business major\n",
      "   - major4: other soc. science major\n",
      "   - major5: humanities or other major\n"
     ]
    },
    {
     "data": {
      "text/html": [
       "<div>\n",
       "<style scoped>\n",
       "    .dataframe tbody tr th:only-of-type {\n",
       "        vertical-align: middle;\n",
       "    }\n",
       "\n",
       "    .dataframe tbody tr th {\n",
       "        vertical-align: top;\n",
       "    }\n",
       "\n",
       "    .dataframe thead th {\n",
       "        text-align: right;\n",
       "    }\n",
       "</style>\n",
       "<table border=\"1\" class=\"dataframe\">\n",
       "  <thead>\n",
       "    <tr style=\"text-align: right;\">\n",
       "      <th></th>\n",
       "      <th>treatment</th>\n",
       "      <th>session</th>\n",
       "      <th>period</th>\n",
       "      <th>subject</th>\n",
       "      <th>disttype</th>\n",
       "      <th>highdist</th>\n",
       "      <th>lowdist</th>\n",
       "      <th>group</th>\n",
       "      <th>v</th>\n",
       "      <th>b</th>\n",
       "      <th>...</th>\n",
       "      <th>irritation</th>\n",
       "      <th>moodswings</th>\n",
       "      <th>withdrawal</th>\n",
       "      <th>major</th>\n",
       "      <th>sdmajor</th>\n",
       "      <th>major1</th>\n",
       "      <th>major2</th>\n",
       "      <th>major3</th>\n",
       "      <th>major4</th>\n",
       "      <th>major5</th>\n",
       "    </tr>\n",
       "  </thead>\n",
       "  <tbody>\n",
       "    <tr>\n",
       "      <th>0</th>\n",
       "      <td>k1_8_exp_lot</td>\n",
       "      <td>061018_1</td>\n",
       "      <td>1</td>\n",
       "      <td>1</td>\n",
       "      <td>Low</td>\n",
       "      <td>0</td>\n",
       "      <td>1</td>\n",
       "      <td>1</td>\n",
       "      <td>48</td>\n",
       "      <td>40</td>\n",
       "      <td>...</td>\n",
       "      <td>0</td>\n",
       "      <td>0</td>\n",
       "      <td>0</td>\n",
       "      <td>2</td>\n",
       "      <td>Electrical Engineering - Signal Processing (st...</td>\n",
       "      <td>0</td>\n",
       "      <td>1</td>\n",
       "      <td>0</td>\n",
       "      <td>0</td>\n",
       "      <td>0</td>\n",
       "    </tr>\n",
       "    <tr>\n",
       "      <th>1</th>\n",
       "      <td>k1_8_exp_lot</td>\n",
       "      <td>061018_1</td>\n",
       "      <td>1</td>\n",
       "      <td>2</td>\n",
       "      <td>High</td>\n",
       "      <td>1</td>\n",
       "      <td>0</td>\n",
       "      <td>4</td>\n",
       "      <td>76</td>\n",
       "      <td>15</td>\n",
       "      <td>...</td>\n",
       "      <td>0</td>\n",
       "      <td>0</td>\n",
       "      <td>0</td>\n",
       "      <td>4</td>\n",
       "      <td>public health</td>\n",
       "      <td>0</td>\n",
       "      <td>0</td>\n",
       "      <td>0</td>\n",
       "      <td>1</td>\n",
       "      <td>0</td>\n",
       "    </tr>\n",
       "    <tr>\n",
       "      <th>2</th>\n",
       "      <td>k1_8_exp_lot</td>\n",
       "      <td>061018_1</td>\n",
       "      <td>1</td>\n",
       "      <td>3</td>\n",
       "      <td>High</td>\n",
       "      <td>1</td>\n",
       "      <td>0</td>\n",
       "      <td>3</td>\n",
       "      <td>73</td>\n",
       "      <td>53</td>\n",
       "      <td>...</td>\n",
       "      <td>0</td>\n",
       "      <td>0</td>\n",
       "      <td>0</td>\n",
       "      <td>5</td>\n",
       "      <td>german and film and video studies</td>\n",
       "      <td>0</td>\n",
       "      <td>0</td>\n",
       "      <td>0</td>\n",
       "      <td>0</td>\n",
       "      <td>1</td>\n",
       "    </tr>\n",
       "    <tr>\n",
       "      <th>3</th>\n",
       "      <td>k1_8_exp_lot</td>\n",
       "      <td>061018_1</td>\n",
       "      <td>1</td>\n",
       "      <td>4</td>\n",
       "      <td>High</td>\n",
       "      <td>1</td>\n",
       "      <td>0</td>\n",
       "      <td>4</td>\n",
       "      <td>74</td>\n",
       "      <td>51</td>\n",
       "      <td>...</td>\n",
       "      <td>1</td>\n",
       "      <td>0</td>\n",
       "      <td>0</td>\n",
       "      <td>5</td>\n",
       "      <td>spanish</td>\n",
       "      <td>0</td>\n",
       "      <td>0</td>\n",
       "      <td>0</td>\n",
       "      <td>0</td>\n",
       "      <td>1</td>\n",
       "    </tr>\n",
       "    <tr>\n",
       "      <th>4</th>\n",
       "      <td>k1_8_exp_lot</td>\n",
       "      <td>061018_1</td>\n",
       "      <td>1</td>\n",
       "      <td>5</td>\n",
       "      <td>Low</td>\n",
       "      <td>0</td>\n",
       "      <td>1</td>\n",
       "      <td>1</td>\n",
       "      <td>72</td>\n",
       "      <td>52</td>\n",
       "      <td>...</td>\n",
       "      <td>0</td>\n",
       "      <td>1</td>\n",
       "      <td>0</td>\n",
       "      <td>2</td>\n",
       "      <td>Engineering</td>\n",
       "      <td>0</td>\n",
       "      <td>1</td>\n",
       "      <td>0</td>\n",
       "      <td>0</td>\n",
       "      <td>0</td>\n",
       "    </tr>\n",
       "  </tbody>\n",
       "</table>\n",
       "<p>5 rows × 72 columns</p>\n",
       "</div>"
      ],
      "text/plain": [
       "      treatment   session  period  subject disttype  highdist  lowdist  group  \\\n",
       "0  k1_8_exp_lot  061018_1       1        1      Low         0        1      1   \n",
       "1  k1_8_exp_lot  061018_1       1        2     High         1        0      4   \n",
       "2  k1_8_exp_lot  061018_1       1        3     High         1        0      3   \n",
       "3  k1_8_exp_lot  061018_1       1        4     High         1        0      4   \n",
       "4  k1_8_exp_lot  061018_1       1        5      Low         0        1      1   \n",
       "\n",
       "    v   b  ...  irritation  moodswings withdrawal  major  \\\n",
       "0  48  40  ...           0           0          0      2   \n",
       "1  76  15  ...           0           0          0      4   \n",
       "2  73  53  ...           0           0          0      5   \n",
       "3  74  51  ...           1           0          0      5   \n",
       "4  72  52  ...           0           1          0      2   \n",
       "\n",
       "                                             sdmajor  major1  major2  major3  \\\n",
       "0  Electrical Engineering - Signal Processing (st...       0       1       0   \n",
       "1                                      public health       0       0       0   \n",
       "2                  german and film and video studies       0       0       0   \n",
       "3                                            spanish       0       0       0   \n",
       "4                                        Engineering       0       1       0   \n",
       "\n",
       "   major4  major5  \n",
       "0       0       0  \n",
       "1       1       0  \n",
       "2       0       1  \n",
       "3       0       1  \n",
       "4       0       0  \n",
       "\n",
       "[5 rows x 72 columns]"
      ]
     },
     "execution_count": 3,
     "metadata": {},
     "output_type": "execute_result"
    }
   ],
   "source": [
    "#uncomment the below line to view readme files for this dataset (includes explanation of variable names)\n",
    "!cat assets/assignment2_data1_readme.md\n",
    "!cat assets/assignment2_data2_readme.md\n",
    "\n",
    "#uncomment the below line to view snippet of csv file\n",
    "trust_data.head()\n",
    "fpa_data.head()"
   ]
  },
  {
   "cell_type": "markdown",
   "metadata": {
    "deletable": false,
    "editable": false,
    "nbgrader": {
     "cell_type": "markdown",
     "checksum": "c47b1983c46ff94bcebef5ea180063cb",
     "grade": false,
     "grade_id": "cell-b15904c6cd72545f",
     "locked": true,
     "schema_version": 3,
     "solution": false
    }
   },
   "source": [
    "## Part A (3 points)"
   ]
  },
  {
   "cell_type": "markdown",
   "metadata": {
    "deletable": false,
    "editable": false,
    "nbgrader": {
     "cell_type": "markdown",
     "checksum": "e371ec3a7fe32d98341b52ec6a68ff5a",
     "grade": false,
     "grade_id": "part_a_inst_text",
     "locked": true,
     "schema_version": 3,
     "solution": false
    }
   },
   "source": [
    "\n",
    "1. For the Trust Game, subjects are grouped in pairs, paired with one assigned the role of an investor and another a recipient. Let's examine  the correlation between the amounts the investors invest and the amounts the recipients return. Complete the function below to return the correlation coefficient. (3 points)\n",
    "\n",
    "**Round any calculations to the hundredth decimal. Do not use percentages.**"
   ]
  },
  {
   "cell_type": "code",
   "execution_count": 4,
   "metadata": {
    "deletable": false,
    "nbgrader": {
     "cell_type": "code",
     "checksum": "b94215c9b24a32ff5d46845eb6be09b5",
     "grade": false,
     "grade_id": "np_correlation_value",
     "locked": false,
     "schema_version": 3,
     "solution": true
    }
   },
   "outputs": [],
   "source": [
    "def inv_rec_corrcoef(provided_data):\n",
    "    \"\"\" Later in this problem set, you will be modeling OLS regressions on your data. For now, we'll calculate just\n",
    "    the correlation coefficient using numpy. If needed, refer to the numpy documentation linked above.\n",
    "    \"\"\"\n",
    "    # YOUR CODE HERE\n",
    "    #raise NotImplementedError()\n",
    "    invest = trust_data[trust_data['player role'] == 'first']['decision']\n",
    "    returner = trust_data[trust_data['player role'] == 'second']['decision']\n",
    "    answer = round(np.corrcoef(invest, returner)[0][1],2)\n",
    "    return answer"
   ]
  },
  {
   "cell_type": "markdown",
   "metadata": {
    "deletable": false,
    "editable": false,
    "nbgrader": {
     "cell_type": "markdown",
     "checksum": "1f8d445a99919ca717510a40d18c0ee3",
     "grade": false,
     "grade_id": "part_a_check_text",
     "locked": true,
     "schema_version": 3,
     "solution": false
    }
   },
   "source": [
    "Your function should return a float with the correct coefficient value. Check that it does:"
   ]
  },
  {
   "cell_type": "code",
   "execution_count": 5,
   "metadata": {},
   "outputs": [
    {
     "data": {
      "text/plain": [
       "0.82"
      ]
     },
     "execution_count": 5,
     "metadata": {},
     "output_type": "execute_result"
    }
   ],
   "source": [
    "inv_rec_corrcoef(trust_data)"
   ]
  },
  {
   "cell_type": "code",
   "execution_count": 6,
   "metadata": {
    "deletable": false,
    "editable": false,
    "nbgrader": {
     "cell_type": "code",
     "checksum": "f1d5b99b668d18aa33461b40ab33fb97",
     "grade": true,
     "grade_id": "correct_correlation_value1",
     "locked": true,
     "points": 1,
     "schema_version": 3,
     "solution": false
    }
   },
   "outputs": [],
   "source": [
    "assert type(inv_rec_corrcoef(trust_data)) == np.float64"
   ]
  },
  {
   "cell_type": "code",
   "execution_count": 7,
   "metadata": {
    "deletable": false,
    "editable": false,
    "nbgrader": {
     "cell_type": "code",
     "checksum": "e660a92323ece36588678883d1fd5ffa",
     "grade": true,
     "grade_id": "correct_correlation_value2",
     "locked": true,
     "points": 2,
     "schema_version": 3,
     "solution": false
    }
   },
   "outputs": [
    {
     "data": {
      "text/plain": [
       "'Part A #1: Checking value of correlation coefficient'"
      ]
     },
     "execution_count": 7,
     "metadata": {},
     "output_type": "execute_result"
    }
   ],
   "source": [
    "\"\"\"Part A #1: Checking value of correlation coefficient\"\"\"\n",
    "# Hidden tests"
   ]
  },
  {
   "cell_type": "markdown",
   "metadata": {
    "deletable": false,
    "editable": false,
    "nbgrader": {
     "cell_type": "markdown",
     "checksum": "9a385862d95a5148022fb84ab170478c",
     "grade": false,
     "grade_id": "cell-e80743d45e4643ef",
     "locked": true,
     "schema_version": 3,
     "solution": false
    }
   },
   "source": [
    "## Part B (4 points)"
   ]
  },
  {
   "cell_type": "markdown",
   "metadata": {
    "deletable": false,
    "editable": false,
    "nbgrader": {
     "cell_type": "markdown",
     "checksum": "70ba0bb2f828071f2d3ec875f746db8e",
     "grade": false,
     "grade_id": "part_b_inst_text",
     "locked": true,
     "schema_version": 3,
     "solution": false
    }
   },
   "source": [
    "For the first-price auctions experiment, there are ten experimental sessions, with eight subjects per session. In this context, subjects are tasked with completing auction and lottery (Holt-Laury 2002) tasks in two orders. In five of the ten sessions, subjects first complete a lottery task, followed by 30 rounds of auctions. In the other five sessions, subjects first complete 30 rounds of auctions, followed by a lottery task. At the end of each session, subjects complete a demographics survey. The data sets extract the first period auction data for each treatment.\n"
   ]
  },
  {
   "cell_type": "markdown",
   "metadata": {
    "deletable": false,
    "editable": false,
    "nbgrader": {
     "cell_type": "markdown",
     "checksum": "478bb5c704c73c36fa4e72af4d085b08",
     "grade": false,
     "grade_id": "part_b_inst_text_1",
     "locked": true,
     "schema_version": 3,
     "solution": false
    }
   },
   "source": [
    "In this case, say that the control for the first-price auction experiment is the order in which subjects complete the lottery task followed by the auction task (k1_8_lot_exp) and the outcome variable we want to measure is the bid-value ratio (b/v).\n",
    "\n",
    "1. Using differences-in-means, what is the average treatment effect for the first-price auction experiment? (4 points)\n",
    "\n",
    "**Round any calculations to the hundredth decimal. Do not use percentages.**"
   ]
  },
  {
   "cell_type": "code",
   "execution_count": 8,
   "metadata": {
    "deletable": false,
    "nbgrader": {
     "cell_type": "code",
     "checksum": "d1472d8e43a2572d9099027f77137281",
     "grade": false,
     "grade_id": "manual_ate_fpa",
     "locked": false,
     "schema_version": 3,
     "solution": true
    }
   },
   "outputs": [],
   "source": [
    "def ate_fpa_payoff(provided_data):\n",
    "    \"\"\"\n",
    "    Write the function to manually check the differences in means of bid-value ratios across the different groups explained above.\n",
    "    To do this, please create a new dataframe column called 'bidval_ratio' in the provided data.\n",
    "    Your function should output a dataframe with the following columns: 'lot_auc_mean', 'auc_lot_mean', 'diff in means'.\n",
    "    \"\"\"\n",
    "    # YOUR CODE HERE\n",
    "    #raise NotImplementedError()\n",
    "    \n",
    "    ate_fpa_payoff_df = pd.DataFrame(columns=['lot_auc_mean','auc_lot_mean', 'diff in means'])\n",
    "    provided_data['bidval_ratio'] = provided_data['b'] / provided_data['v']\n",
    "    ate_fpa_payoff_df['lot_auc_mean'] = [round(provided_data[provided_data['treatment'] == 'k1_8_lot_exp']['bidval_ratio'].mean(),2)]\n",
    "    ate_fpa_payoff_df['auc_lot_mean'] = [round(provided_data[provided_data['treatment'] == 'k1_8_exp_lot']['bidval_ratio'].mean(),2)]\n",
    "    ate_fpa_payoff_df['diff in means'] = ate_fpa_payoff_df['lot_auc_mean']- ate_fpa_payoff_df['auc_lot_mean']\n",
    "    return ate_fpa_payoff_df"
   ]
  },
  {
   "cell_type": "markdown",
   "metadata": {
    "deletable": false,
    "editable": false,
    "nbgrader": {
     "cell_type": "markdown",
     "checksum": "d5c6cf62e11f101b42ea7d220dd38632",
     "grade": false,
     "grade_id": "part_b_check_text",
     "locked": true,
     "schema_version": 3,
     "solution": false
    }
   },
   "source": [
    "Your function should return a dataframe with the correct values and columns. Check that it does:"
   ]
  },
  {
   "cell_type": "code",
   "execution_count": 9,
   "metadata": {},
   "outputs": [
    {
     "data": {
      "text/html": [
       "<div>\n",
       "<style scoped>\n",
       "    .dataframe tbody tr th:only-of-type {\n",
       "        vertical-align: middle;\n",
       "    }\n",
       "\n",
       "    .dataframe tbody tr th {\n",
       "        vertical-align: top;\n",
       "    }\n",
       "\n",
       "    .dataframe thead th {\n",
       "        text-align: right;\n",
       "    }\n",
       "</style>\n",
       "<table border=\"1\" class=\"dataframe\">\n",
       "  <thead>\n",
       "    <tr style=\"text-align: right;\">\n",
       "      <th></th>\n",
       "      <th>lot_auc_mean</th>\n",
       "      <th>auc_lot_mean</th>\n",
       "      <th>diff in means</th>\n",
       "    </tr>\n",
       "  </thead>\n",
       "  <tbody>\n",
       "    <tr>\n",
       "      <th>0</th>\n",
       "      <td>0.95</td>\n",
       "      <td>0.75</td>\n",
       "      <td>0.2</td>\n",
       "    </tr>\n",
       "  </tbody>\n",
       "</table>\n",
       "</div>"
      ],
      "text/plain": [
       "   lot_auc_mean  auc_lot_mean  diff in means\n",
       "0          0.95          0.75            0.2"
      ]
     },
     "execution_count": 9,
     "metadata": {},
     "output_type": "execute_result"
    }
   ],
   "source": [
    "ate_fpa_payoff(fpa_data)"
   ]
  },
  {
   "cell_type": "code",
   "execution_count": 10,
   "metadata": {
    "deletable": false,
    "editable": false,
    "nbgrader": {
     "cell_type": "code",
     "checksum": "c78d12961aec2b02fca9758c5ee7418d",
     "grade": true,
     "grade_id": "ate_fpa_df",
     "locked": true,
     "points": 1,
     "schema_version": 3,
     "solution": false
    }
   },
   "outputs": [],
   "source": [
    "assert isinstance (ate_fpa_payoff(fpa_data), pd.core.frame.DataFrame), \"checking your data is in a dataframe\""
   ]
  },
  {
   "cell_type": "code",
   "execution_count": 11,
   "metadata": {
    "deletable": false,
    "editable": false,
    "nbgrader": {
     "cell_type": "code",
     "checksum": "cc7f24fce2db5847b5055360b9e135cf",
     "grade": true,
     "grade_id": "ate_fpa_df_columns",
     "locked": true,
     "points": 1,
     "schema_version": 3,
     "solution": false
    }
   },
   "outputs": [],
   "source": [
    "assert ate_fpa_payoff(fpa_data).columns[0] == 'lot_auc_mean', \"checking df column names\"\n",
    "assert ate_fpa_payoff(fpa_data).columns[1] == 'auc_lot_mean', \"checking df column names\"\n",
    "assert ate_fpa_payoff(fpa_data).columns[2] == 'diff in means', \"checking df column names\""
   ]
  },
  {
   "cell_type": "code",
   "execution_count": 12,
   "metadata": {
    "deletable": false,
    "editable": false,
    "nbgrader": {
     "cell_type": "code",
     "checksum": "e8cddc926143cc067f6fa7b0aabae77f",
     "grade": true,
     "grade_id": "ate_fpa_correct_value_lot",
     "locked": true,
     "points": 1,
     "schema_version": 3,
     "solution": false
    }
   },
   "outputs": [
    {
     "data": {
      "text/plain": [
       "'Part B: lot_auc_mean value'"
      ]
     },
     "execution_count": 12,
     "metadata": {},
     "output_type": "execute_result"
    }
   ],
   "source": [
    "\"Part B: lot_auc_mean value\"\n",
    "# Hidden tests"
   ]
  },
  {
   "cell_type": "code",
   "execution_count": 13,
   "metadata": {
    "deletable": false,
    "editable": false,
    "nbgrader": {
     "cell_type": "code",
     "checksum": "d069673251c1b30ef464e16cd29282de",
     "grade": true,
     "grade_id": "ate_fpa_correct_value_auc",
     "locked": true,
     "points": 1,
     "schema_version": 3,
     "solution": false
    }
   },
   "outputs": [
    {
     "data": {
      "text/plain": [
       "'Part B: auc_lot_mean value'"
      ]
     },
     "execution_count": 13,
     "metadata": {},
     "output_type": "execute_result"
    }
   ],
   "source": [
    "\"Part B: auc_lot_mean value\"\n",
    "# Hidden tests"
   ]
  },
  {
   "cell_type": "markdown",
   "metadata": {
    "deletable": false,
    "editable": false,
    "nbgrader": {
     "cell_type": "markdown",
     "checksum": "ae3825ae4d83b9d1980a4de864a7996e",
     "grade": false,
     "grade_id": "cell-6727be3b5002917d",
     "locked": true,
     "schema_version": 3,
     "solution": false
    }
   },
   "source": [
    "## Part C (12 points)"
   ]
  },
  {
   "cell_type": "markdown",
   "metadata": {
    "deletable": false,
    "editable": false,
    "nbgrader": {
     "cell_type": "markdown",
     "checksum": "9fd16026c85a42e8d3f2eb66abc74548",
     "grade": false,
     "grade_id": "part_c_inst_text",
     "locked": true,
     "schema_version": 3,
     "solution": false
    }
   },
   "source": [
    "Continuing with the ```fpa_data``` dataset from last week, we would expect subjects to bid a certain fraction of their value in a first-price sealed bid auction depending on their risk attitudes (e.g., risk neutral, risk averse). Let's explore what effect gender has on bid-value ratios when controlled with risk. This time, let's calculate this average treatment effect using an ordinary least-squares regression."
   ]
  },
  {
   "cell_type": "markdown",
   "metadata": {
    "deletable": false,
    "editable": false,
    "nbgrader": {
     "cell_type": "markdown",
     "checksum": "af858fdaa3495f9e7c9f661158e13b63",
     "grade": false,
     "grade_id": "part_c_inst_text_1",
     "locked": true,
     "schema_version": 3,
     "solution": false
    }
   },
   "source": [
    "1. Using the ```fpa_data``` dataframe and an ordinary least-squares regression model, complete the ```ols_riskfemale_on_bidvalue``` function to evaluate how subjects’ risk attitudes and gender (in the form of the _female_ variable) affect their bid/value ratio. For now, we'll just return a summary view of our data. (2 points)\n",
    "\n",
    "**Round any calculations to the hundredth decimal. Do not use percentages.**"
   ]
  },
  {
   "cell_type": "code",
   "execution_count": 14,
   "metadata": {
    "deletable": false,
    "nbgrader": {
     "cell_type": "code",
     "checksum": "f6de487cb82fb5de3006500b9dbabf26",
     "grade": false,
     "grade_id": "ols_riskgender_summary",
     "locked": false,
     "schema_version": 3,
     "solution": true
    }
   },
   "outputs": [],
   "source": [
    "def ols_riskgender_on_bidvalue(provided_data):\n",
    "    \n",
    "    \"\"\"\n",
    "    The easiest way to evaluate how subjects' risk attitudes and gender affect their bid/value ratio is to run an OLS linear\n",
    "    regression on your fpa_data dataframe. Use the statsmodels library to run an OLS linear regression, and return the summary\n",
    "    view of your results.\n",
    "\n",
    "    \"\"\"\n",
    "    X = provided_data[['female', 'ra']]\n",
    "    # YOUR CODE HERE\n",
    "    #raise NotImplementedError()\n",
    "    \n",
    "    Y = provided_data['bv_ratio'] = provided_data['b'] / provided_data['v']\n",
    "    X = sm.add_constant(X)\n",
    "    model = sm.OLS(Y,X).fit()\n",
    "    model_summary = model.summary()\n",
    "    return model_summary\n"
   ]
  },
  {
   "cell_type": "markdown",
   "metadata": {
    "deletable": false,
    "editable": false,
    "nbgrader": {
     "cell_type": "markdown",
     "checksum": "1b58f2fba8e1927ff66320fb9e1d0e15",
     "grade": false,
     "grade_id": "part_c_check_text",
     "locked": true,
     "schema_version": 3,
     "solution": false
    }
   },
   "source": [
    "Your function should return a summary view of your results. Check that it does:"
   ]
  },
  {
   "cell_type": "code",
   "execution_count": 15,
   "metadata": {},
   "outputs": [
    {
     "name": "stdout",
     "output_type": "stream",
     "text": [
      "                            OLS Regression Results                            \n",
      "==============================================================================\n",
      "Dep. Variable:                      y   R-squared:                       0.009\n",
      "Model:                            OLS   Adj. R-squared:                 -0.016\n",
      "Method:                 Least Squares   F-statistic:                    0.3652\n",
      "Date:                Thu, 10 Mar 2022   Prob (F-statistic):              0.695\n",
      "Time:                        00:00:16   Log-Likelihood:                -117.55\n",
      "No. Observations:                  80   AIC:                             241.1\n",
      "Df Residuals:                      77   BIC:                             248.3\n",
      "Df Model:                           2                                         \n",
      "Covariance Type:            nonrobust                                         \n",
      "==============================================================================\n",
      "                 coef    std err          t      P>|t|      [0.025      0.975]\n",
      "------------------------------------------------------------------------------\n",
      "const          1.0614      0.581      1.825      0.072      -0.096       2.219\n",
      "female        -0.2073      0.250     -0.829      0.410      -0.705       0.291\n",
      "ra            -0.0129      0.091     -0.142      0.888      -0.194       0.168\n",
      "==============================================================================\n",
      "Omnibus:                      163.224   Durbin-Watson:                   1.983\n",
      "Prob(Omnibus):                  0.000   Jarque-Bera (JB):            14718.353\n",
      "Skew:                           7.879   Prob(JB):                         0.00\n",
      "Kurtosis:                      67.554   Cond. No.                         31.4\n",
      "==============================================================================\n",
      "\n",
      "Notes:\n",
      "[1] Standard Errors assume that the covariance matrix of the errors is correctly specified.\n"
     ]
    }
   ],
   "source": [
    "print(ols_riskgender_on_bidvalue(fpa_data)) #we've wrapped this in a print statement to preserve the original statsmodels layout -- if you get a deprecation warning, that is fine."
   ]
  },
  {
   "cell_type": "code",
   "execution_count": 16,
   "metadata": {
    "deletable": false,
    "editable": false,
    "nbgrader": {
     "cell_type": "code",
     "checksum": "2aa8ecd7ec7fe6b70b22b29e334634bf",
     "grade": true,
     "grade_id": "correct_ols_type_summary",
     "locked": true,
     "points": 2,
     "schema_version": 3,
     "solution": false
    }
   },
   "outputs": [],
   "source": [
    "assert isinstance (ols_riskgender_on_bidvalue(fpa_data), sm.iolib.summary.Summary), \"checking your summary is output as a statsmodel summary object\""
   ]
  },
  {
   "cell_type": "markdown",
   "metadata": {
    "deletable": false,
    "editable": false,
    "nbgrader": {
     "cell_type": "markdown",
     "checksum": "d4eb96fa5ec5f24c3707d682a18dbff9",
     "grade": false,
     "grade_id": "part_c_inst_text_2",
     "locked": true,
     "schema_version": 3,
     "solution": false
    }
   },
   "source": [
    "2. Now, modify the ols_riskgender_on_bidvalue function to access the model's coefficients (parameters) and associated p-values, instead of printing out the entire summary view. For now, we won't worry about rounding. (3 points)\n",
    "    "
   ]
  },
  {
   "cell_type": "code",
   "execution_count": 17,
   "metadata": {
    "deletable": false,
    "nbgrader": {
     "cell_type": "code",
     "checksum": "bb6fd6119a6eb1cb68772fc999c719f9",
     "grade": false,
     "grade_id": "ols_riskgender_params",
     "locked": false,
     "schema_version": 3,
     "solution": true
    }
   },
   "outputs": [],
   "source": [
    "def ols_riskgender_on_bidvalue(provided_data):\n",
    "    \n",
    "    \"\"\"\n",
    "    The easiest way to evaluate how subjects' risk attitudes and gender affect their bid/value ratio is to run an OLS linear\n",
    "    regression on your data dataframe. Use the statsmodels library to run an OLS linear regression, and this time return the\n",
    "    the coefficients and the p-values for your model.\n",
    "\n",
    "    \"\"\"\n",
    "    X = provided_data[['female', 'ra']]\n",
    "    # complete the function by assigning your Y, and fitting your model.\n",
    "    # YOUR CODE HERE\n",
    "    #raise NotImplementedError()\n",
    "    \n",
    "    Y = provided_data['bv_ratio'] = provided_data['b'] / provided_data['v']\n",
    "    X = sm.add_constant(X)\n",
    "    model = sm.OLS(Y,X).fit()\n",
    "    model_params = model.params\n",
    "    pvals = model.pvalues\n",
    "    \n",
    "    return model_params, pvals #we're returning a tuple of a series here -- pretty ugly, right?"
   ]
  },
  {
   "cell_type": "markdown",
   "metadata": {
    "deletable": false,
    "editable": false,
    "nbgrader": {
     "cell_type": "markdown",
     "checksum": "d1639e4223c8385bcaf570204910cc88",
     "grade": false,
     "grade_id": "part_c_check_text_1",
     "locked": true,
     "schema_version": 3,
     "solution": false
    }
   },
   "source": [
    "Your function should return a raw tuple of your results in pandas Series form. Check that it does:"
   ]
  },
  {
   "cell_type": "code",
   "execution_count": 18,
   "metadata": {},
   "outputs": [
    {
     "data": {
      "text/plain": [
       "(const     1.061402\n",
       " female   -0.207335\n",
       " ra       -0.012915\n",
       " dtype: float64,\n",
       " const     0.071815\n",
       " female    0.409668\n",
       " ra        0.887578\n",
       " dtype: float64)"
      ]
     },
     "execution_count": 18,
     "metadata": {},
     "output_type": "execute_result"
    }
   ],
   "source": [
    "ols_riskgender_on_bidvalue(fpa_data)"
   ]
  },
  {
   "cell_type": "code",
   "execution_count": 19,
   "metadata": {
    "deletable": false,
    "editable": false,
    "nbgrader": {
     "cell_type": "code",
     "checksum": "7899fc3337939c0a9d229e1b3f3e7568",
     "grade": true,
     "grade_id": "correct_const_series",
     "locked": true,
     "points": 1,
     "schema_version": 3,
     "solution": false
    }
   },
   "outputs": [],
   "source": [
    "\"checking your return value is a tuple of type pandas series\"\n",
    "assert isinstance (ols_riskgender_on_bidvalue(fpa_data)[0], pd.core.series.Series)\n",
    "assert isinstance (ols_riskgender_on_bidvalue(fpa_data)[1], pd.core.series.Series)"
   ]
  },
  {
   "cell_type": "code",
   "execution_count": 20,
   "metadata": {
    "deletable": false,
    "editable": false,
    "nbgrader": {
     "cell_type": "code",
     "checksum": "6cffc7206337ff51b5faa9ef9db8e3bc",
     "grade": true,
     "grade_id": "correct_round_const",
     "locked": true,
     "points": 2,
     "schema_version": 3,
     "solution": false
    }
   },
   "outputs": [
    {
     "data": {
      "text/plain": [
       "\"checking the value of 'const' for both values\""
      ]
     },
     "execution_count": 20,
     "metadata": {},
     "output_type": "execute_result"
    }
   ],
   "source": [
    "\"checking the value of 'const' for both values\"\n",
    "# Hidden tests"
   ]
  },
  {
   "cell_type": "markdown",
   "metadata": {
    "deletable": false,
    "editable": false,
    "nbgrader": {
     "cell_type": "markdown",
     "checksum": "444bd4ff2ce713cb7d14957b3a69a6ee",
     "grade": false,
     "grade_id": "part_c_inst_text_3",
     "locked": true,
     "schema_version": 3,
     "solution": false
    }
   },
   "source": [
    "3. Now, let's make our results more readable. Let's modify our function once again to this time create a dataframe that has the coefficients and p-values for the control variables and constant, **rounding to the nearest hundredth decimal**. (4 points)\n",
    "    "
   ]
  },
  {
   "cell_type": "code",
   "execution_count": 21,
   "metadata": {
    "deletable": false,
    "nbgrader": {
     "cell_type": "code",
     "checksum": "5e721279779d3cb275c4ed0273f6e7d9",
     "grade": false,
     "grade_id": "ols_riskgender_df",
     "locked": false,
     "schema_version": 3,
     "solution": true
    }
   },
   "outputs": [],
   "source": [
    "def ols_riskgender_on_bidvalue_df(provided_data):\n",
    "    \n",
    "    \"\"\"\n",
    "    This function should use the results of the ols_riskgender_on_bidvalue function above to output a dataframe\n",
    "    that has the coefficients and p-values for the control variables and constant. \n",
    "    The dataframe should have the following columns: 'variable', 'coefficient', and 'p-value'\n",
    "    \n",
    "    \"\"\"\n",
    "    # define your parameters for your model and the p-values, then fill in the rest of the function below.\n",
    "    \n",
    "    # YOUR CODE HERE\n",
    "    model_params = ols_riskgender_on_bidvalue(provided_data)[0]\n",
    "    pvals = ols_riskgender_on_bidvalue(provided_data)[1]\n",
    "    ols_model_df = pd.DataFrame(columns=['variable','coefficient','p-value'])\n",
    "    variables = ['const','ra','female']\n",
    "    ols_model_df['variable'] = variables\n",
    "    for variable in ols_model_df['variable']:\n",
    "        ols_model_df.loc[ols_model_df['variable']== variable,'coefficient'] = round(float(model_params[variable]),2)\n",
    "        ols_model_df.loc[ols_model_df['variable']==variable,'p-value'] = round(float(pvals[variable]),2)\n",
    "    return ols_model_df"
   ]
  },
  {
   "cell_type": "markdown",
   "metadata": {
    "deletable": false,
    "editable": false,
    "nbgrader": {
     "cell_type": "markdown",
     "checksum": "a38826098f533360078974a95e62047f",
     "grade": false,
     "grade_id": "part_c_check_text_2",
     "locked": true,
     "schema_version": 3,
     "solution": false
    }
   },
   "source": [
    "Your function should return a dataframe of your results. Check that it does:"
   ]
  },
  {
   "cell_type": "code",
   "execution_count": 22,
   "metadata": {},
   "outputs": [
    {
     "data": {
      "text/html": [
       "<div>\n",
       "<style scoped>\n",
       "    .dataframe tbody tr th:only-of-type {\n",
       "        vertical-align: middle;\n",
       "    }\n",
       "\n",
       "    .dataframe tbody tr th {\n",
       "        vertical-align: top;\n",
       "    }\n",
       "\n",
       "    .dataframe thead th {\n",
       "        text-align: right;\n",
       "    }\n",
       "</style>\n",
       "<table border=\"1\" class=\"dataframe\">\n",
       "  <thead>\n",
       "    <tr style=\"text-align: right;\">\n",
       "      <th></th>\n",
       "      <th>variable</th>\n",
       "      <th>coefficient</th>\n",
       "      <th>p-value</th>\n",
       "    </tr>\n",
       "  </thead>\n",
       "  <tbody>\n",
       "    <tr>\n",
       "      <th>0</th>\n",
       "      <td>const</td>\n",
       "      <td>1.06</td>\n",
       "      <td>0.07</td>\n",
       "    </tr>\n",
       "    <tr>\n",
       "      <th>1</th>\n",
       "      <td>ra</td>\n",
       "      <td>-0.01</td>\n",
       "      <td>0.89</td>\n",
       "    </tr>\n",
       "    <tr>\n",
       "      <th>2</th>\n",
       "      <td>female</td>\n",
       "      <td>-0.21</td>\n",
       "      <td>0.41</td>\n",
       "    </tr>\n",
       "  </tbody>\n",
       "</table>\n",
       "</div>"
      ],
      "text/plain": [
       "  variable coefficient p-value\n",
       "0    const        1.06    0.07\n",
       "1       ra       -0.01    0.89\n",
       "2   female       -0.21    0.41"
      ]
     },
     "execution_count": 22,
     "metadata": {},
     "output_type": "execute_result"
    }
   ],
   "source": [
    "ols_riskgender_on_bidvalue_df(fpa_data)"
   ]
  },
  {
   "cell_type": "code",
   "execution_count": 23,
   "metadata": {
    "deletable": false,
    "editable": false,
    "nbgrader": {
     "cell_type": "code",
     "checksum": "5ee595c444e4ba07258a1756faccc9b4",
     "grade": true,
     "grade_id": "correct_ols_riskg_pval",
     "locked": true,
     "points": 2,
     "schema_version": 3,
     "solution": false
    }
   },
   "outputs": [
    {
     "data": {
      "text/plain": [
       "'Part C: Check the dataframe outputs the correct p-values from OLS model'"
      ]
     },
     "execution_count": 23,
     "metadata": {},
     "output_type": "execute_result"
    }
   ],
   "source": [
    "\"\"\"Part C: Check the dataframe outputs the correct p-values from OLS model\"\"\"\n",
    "# Hidden tests"
   ]
  },
  {
   "cell_type": "code",
   "execution_count": 24,
   "metadata": {
    "deletable": false,
    "editable": false,
    "nbgrader": {
     "cell_type": "code",
     "checksum": "fbba7916a1dfb4a5001c281d3c56bce0",
     "grade": true,
     "grade_id": "correct_ols_riskg_coeff",
     "locked": true,
     "points": 2,
     "schema_version": 3,
     "solution": false
    }
   },
   "outputs": [
    {
     "data": {
      "text/plain": [
       "'Part C: Check the dataframe outputs the correct coefficients from OLS model'"
      ]
     },
     "execution_count": 24,
     "metadata": {},
     "output_type": "execute_result"
    }
   ],
   "source": [
    "\"\"\"Part C: Check the dataframe outputs the correct coefficients from OLS model\"\"\"\n",
    "# Hidden tests"
   ]
  },
  {
   "cell_type": "markdown",
   "metadata": {
    "deletable": false,
    "editable": false,
    "nbgrader": {
     "cell_type": "markdown",
     "checksum": "011a54f41a0d93f45f2959d8ec522428",
     "grade": false,
     "grade_id": "part_c_inst_text_4",
     "locked": true,
     "schema_version": 3,
     "solution": false
    }
   },
   "source": [
    "4. If you remove the risk attitudes variable from the model, does it have a significant effect on how gender contributes to bid/value ratios? Complete the ```ols_female_on_bidvalue``` function to assess this. Part of the function has already been completed for you. (3 points)\n",
    "\n",
    "**Round any calculations to the hundredth decimal. Do not use percentages.**"
   ]
  },
  {
   "cell_type": "code",
   "execution_count": 25,
   "metadata": {
    "deletable": false,
    "nbgrader": {
     "cell_type": "code",
     "checksum": "6c613233bc3277d46148276a37d3c91f",
     "grade": false,
     "grade_id": "ols_gender_bidval",
     "locked": false,
     "schema_version": 3,
     "solution": true
    }
   },
   "outputs": [],
   "source": [
    "def ols_gender_on_bidvalue_df(provided_data):\n",
    "    \n",
    "    \"\"\"\n",
    "    Complete the function that takes the provided data and creates a OLS model that determines the effect of \n",
    "    gender (using the female variable) on subjects' bid/value ratios. It should output (by filling in the missing values) \n",
    "    a dataframe that has the coefficients for the control variables and intercept.\n",
    "    \n",
    "    \"\"\"\n",
    "    # assign your X and Y variables, and define your parameters and pvalues. Then, fill in the rest of the function below.\n",
    "    # YOUR CODE HERE\n",
    "    #raise NotImplementedError()\n",
    "    \n",
    "    X = provided_data['female']\n",
    "    Y = provided_data['bv_ratio'] = provided_data['b'] / provided_data['v']\n",
    "    X = sm.add_constant(X)\n",
    "    model = sm.OLS(Y,X).fit()\n",
    "    model_params = model.params\n",
    "    pvals = model.pvalues\n",
    "    \n",
    "    ols_gender_model_df = pd.DataFrame(columns=['variable','coefficient','p-value'])\n",
    "    variables = ['const','female']\n",
    "    ols_gender_model_df['variable'] = variables\n",
    "\n",
    "    for variable in ols_gender_model_df['variable']:\n",
    "        # YOUR CODE HERE\n",
    "        #raise NotImplementedError()\n",
    "        ols_gender_model_df.loc[ols_gender_model_df['variable']==variable,'coefficient'] = round(float(model_params[variable]),2)\n",
    "        ols_gender_model_df.loc[ols_gender_model_df['variable']==variable,'p-value'] = round(float(pvals[variable]),2)\n",
    "    return ols_gender_model_df\n"
   ]
  },
  {
   "cell_type": "markdown",
   "metadata": {
    "deletable": false,
    "editable": false,
    "nbgrader": {
     "cell_type": "markdown",
     "checksum": "90a7e3514d127a7063c5700efd38e435",
     "grade": false,
     "grade_id": "part_c_check_text_3",
     "locked": true,
     "schema_version": 3,
     "solution": false
    }
   },
   "source": [
    "Your function should return a dataframe with each of the variables and their completed coefficient and p-value for the OLS model. \n",
    "\n",
    "Check that it does:"
   ]
  },
  {
   "cell_type": "code",
   "execution_count": 26,
   "metadata": {},
   "outputs": [
    {
     "data": {
      "text/html": [
       "<div>\n",
       "<style scoped>\n",
       "    .dataframe tbody tr th:only-of-type {\n",
       "        vertical-align: middle;\n",
       "    }\n",
       "\n",
       "    .dataframe tbody tr th {\n",
       "        vertical-align: top;\n",
       "    }\n",
       "\n",
       "    .dataframe thead th {\n",
       "        text-align: right;\n",
       "    }\n",
       "</style>\n",
       "<table border=\"1\" class=\"dataframe\">\n",
       "  <thead>\n",
       "    <tr style=\"text-align: right;\">\n",
       "      <th></th>\n",
       "      <th>variable</th>\n",
       "      <th>coefficient</th>\n",
       "      <th>p-value</th>\n",
       "    </tr>\n",
       "  </thead>\n",
       "  <tbody>\n",
       "    <tr>\n",
       "      <th>0</th>\n",
       "      <td>const</td>\n",
       "      <td>0.98</td>\n",
       "      <td>0.0</td>\n",
       "    </tr>\n",
       "    <tr>\n",
       "      <th>1</th>\n",
       "      <td>female</td>\n",
       "      <td>-0.21</td>\n",
       "      <td>0.4</td>\n",
       "    </tr>\n",
       "  </tbody>\n",
       "</table>\n",
       "</div>"
      ],
      "text/plain": [
       "  variable coefficient p-value\n",
       "0    const        0.98     0.0\n",
       "1   female       -0.21     0.4"
      ]
     },
     "execution_count": 26,
     "metadata": {},
     "output_type": "execute_result"
    }
   ],
   "source": [
    "ols_gender_on_bidvalue_df(fpa_data)"
   ]
  },
  {
   "cell_type": "code",
   "execution_count": 27,
   "metadata": {
    "deletable": false,
    "editable": false,
    "nbgrader": {
     "cell_type": "code",
     "checksum": "69d55cd93c717bf2edf9d20c7d4afe07",
     "grade": true,
     "grade_id": "correct_const_pval",
     "locked": true,
     "points": 1,
     "schema_version": 3,
     "solution": false
    }
   },
   "outputs": [],
   "source": [
    "assert ols_gender_on_bidvalue_df(fpa_data).iloc[0][2] == 0, \"checking the const p-value value\""
   ]
  },
  {
   "cell_type": "code",
   "execution_count": 28,
   "metadata": {
    "deletable": false,
    "editable": false,
    "nbgrader": {
     "cell_type": "code",
     "checksum": "c9d7f9ea1fb6781cd4de05d5557a1e56",
     "grade": true,
     "grade_id": "correct_riskg_df_vals",
     "locked": true,
     "points": 2,
     "schema_version": 3,
     "solution": false
    }
   },
   "outputs": [
    {
     "data": {
      "text/plain": [
       "'Check that the dataframe outputs the correct values from the OLS model'"
      ]
     },
     "execution_count": 28,
     "metadata": {},
     "output_type": "execute_result"
    }
   ],
   "source": [
    "\"\"\"Check that the dataframe outputs the correct values from the OLS model\"\"\"\n",
    "# Hidden tests"
   ]
  },
  {
   "cell_type": "code",
   "execution_count": null,
   "metadata": {},
   "outputs": [],
   "source": []
  }
 ],
 "metadata": {
  "coursera": {
   "schema_names": [
    "mads_experiment_design_and_analysis_v4_assignment2"
   ]
  },
  "kernelspec": {
   "display_name": "Python 3 (ipykernel)",
   "language": "python",
   "name": "python3"
  },
  "language_info": {
   "codemirror_mode": {
    "name": "ipython",
    "version": 3
   },
   "file_extension": ".py",
   "mimetype": "text/x-python",
   "name": "python",
   "nbconvert_exporter": "python",
   "pygments_lexer": "ipython3",
   "version": "3.8.10"
  }
 },
 "nbformat": 4,
 "nbformat_minor": 2
}
